{
  "cells": [
    {
      "cell_type": "markdown",
      "metadata": {
        "id": "c0wqLqU8-NN9"
      },
      "source": [
        " # Data Science 101 - Lead Scoring Scenario"
      ]
    },
    {
      "cell_type": "markdown",
      "metadata": {
        "id": "p6xenwRz-NOA"
      },
      "source": [
        "## Part 1: Problem\n",
        "\n",
        "Today we are going to look at a very common data science problem found in e-commerce and web based software or services (like Xero!). **Lead scoring!**\n",
        "\n",
        "### The Sales Process\n",
        "\n",
        "An education company named X Education sells online courses to industry professionals. On any given day, many professionals who are interested in the courses land on their website and browse for courses.\n",
        "\n",
        "1. Individuals land on the website, they might browse the courses, watch some videos and if they are interested they will fill up a form for the course.\n",
        "\n",
        "1. Once individuals fill out a form, they have now become a potential customer or **lead**\n",
        "\n",
        "1. Employees from the sales team will contact leads by emailing or calling them with the goal of getting the lead to sign up for the course - called a **conversion**\n",
        "\n",
        "We will be using a consulting model called \"SCQA\" to help break down the problem.\n",
        "\n",
        "### Situation\n",
        "\n",
        "- Currently only 38% of leads contacted go on to become a paying customer.\n",
        "- The CEO wants to grow the customer base by 20% over the next year\n",
        "\n",
        "### Complication\n",
        "\n",
        "- The head of the sales & advertising department has marketing budget to increase advertising and generate 20% more leads, but does not have the headcount to contact every lead already, so more leads would not necessarily mean more conversions\n",
        "- The department head knows that a conversion rate of 38% means a lot of time and money is wasted on customers who never intended to sign up.\n",
        "\n",
        "### Question\n",
        "\n",
        "- How can data science help to convert more leads with the same or less amount of calls?\n",
        "\n",
        "### Answer\n",
        "\n",
        "- A lead scoring model trained on historical conversion data could help us to prioritise leads and form a better queue to call from 'hottest' lead to 'coldest'\n",
        "\n",
        "Your idea for a lead scoring model gets approved - now you need to look at the data you and decide what model you are going to build!"
      ]
    },
    {
      "cell_type": "markdown",
      "metadata": {
        "id": "ucK1gh-2-NOB"
      },
      "source": [
        "## Part 2: Tools\n",
        "\n",
        "Today we are going to be using a few different tools in our lead scoring scenario:\n",
        "\n",
        "### Python"
      ]
    },
    {
      "cell_type": "code",
      "execution_count": null,
      "metadata": {
        "id": "DG6R5BQx-NOC"
      },
      "outputs": [],
      "source": [
        "# some basic python commands\n",
        "\n",
        "# create an array\n",
        "x = [1, 2, 3, 4, 5]"
      ]
    },
    {
      "cell_type": "code",
      "execution_count": null,
      "metadata": {
        "id": "WAbm5Wmj-NOD"
      },
      "outputs": [],
      "source": [
        "# try the print command print(x)"
      ]
    },
    {
      "cell_type": "code",
      "execution_count": null,
      "metadata": {
        "id": "8kpB9IPI-NOE"
      },
      "outputs": [],
      "source": [
        "# try min(x)"
      ]
    },
    {
      "cell_type": "code",
      "execution_count": null,
      "metadata": {
        "id": "MtXqjL9a-NOE"
      },
      "outputs": [],
      "source": [
        "# try max(x)"
      ]
    },
    {
      "cell_type": "markdown",
      "metadata": {
        "id": "x8VewvEL-NOF"
      },
      "source": [
        "`min`, `max` and `print` are what we call **functions**. These are preprogrammed commands to do common calculations on manipulations."
      ]
    },
    {
      "cell_type": "markdown",
      "metadata": {
        "id": "JxrNCQQT-NOF"
      },
      "source": [
        "### Jupyter Notebook in Google Colab\n",
        "\n",
        "Jupyter notebook contains **cells** to run each bit of code at a time\n",
        "\n",
        "You can run a cell by using `ctrl` + `enter`\n",
        "\n",
        "Or because we are hosting the notebook in Google Colab you can click the `play` button at the top of the cell"
      ]
    },
    {
      "cell_type": "markdown",
      "metadata": {
        "id": "Czva7y1--NOG"
      },
      "source": [
        "You can add a new text or code cell using the buttons at the top of the notebook"
      ]
    },
    {
      "cell_type": "markdown",
      "metadata": {
        "id": "eGp9AXpw-NOG"
      },
      "source": [
        "### Importing packages\n",
        "\n",
        "To do data science we need to add a bit more functionality than is available in the base python code.\n",
        "\n",
        "We do this by importing packages that have extra functions for data analysis, statistics and machine learning.\n",
        "\n",
        "The data scientists tool kit generally includes the following packages:"
      ]
    },
    {
      "cell_type": "code",
      "execution_count": 1,
      "metadata": {
        "id": "uFxo8cxN-NOG"
      },
      "outputs": [],
      "source": [
        "# package for multi-dimensional arrays and matrices\n",
        "import numpy as np\n",
        "\n",
        "# package for data manipulation and analysis\n",
        "import pandas as pd\n",
        "\n",
        "# packages for creating plots and graphs\n",
        "import matplotlib.pyplot as plt\n",
        "import seaborn as sns\n",
        "\n",
        "# visulaisation\n",
        "from matplotlib.pyplot import xticks\n",
        "%matplotlib inline\n",
        "\n",
        "# ignoring any warnings for this tutorial and you should absolutely ignore warnings forever wait I mean\n",
        "import warnings\n",
        "warnings.filterwarnings(\"ignore\")"
      ]
    },
    {
      "cell_type": "markdown",
      "metadata": {
        "id": "drtwEGUk-NOG"
      },
      "source": [
        "We use the `import` function to load the extra functions into our python session.\n",
        "\n",
        "The `as` just shortens the path name of the function so we can call `pd.function_name()` instead of `pandas.function_name()`"
      ]
    },
    {
      "cell_type": "markdown",
      "metadata": {
        "id": "eRJaFlJa-NOG"
      },
      "source": [
        "## Part 3: Load Data\n",
        "\n",
        "We use functions from the `pandas` package to load in our data from a csv. Then it's important to check that we have loaded the data correctly!\n",
        "\n",
        "Because the datasets are normally too large to parse all at once we can't just browse it like a spreadsheet. We use functions instead to browse the data, looking at the number of records and the content stored in each column.\n",
        "\n",
        "It's also very useful to look at the type of data in each column and check for any duplicates or missing/Null values. Doing this up front will save us headaches later."
      ]
    },
    {
      "cell_type": "code",
      "execution_count": 2,
      "metadata": {
        "id": "CFFdNvYG-NOH"
      },
      "outputs": [],
      "source": [
        "# read in the data into a pandas dataframe\n",
        "leads_df = pd.read_csv('https://raw.githubusercontent.com/hjamau/ds-leadscore-tutorial/master/Leads.csv')"
      ]
    },
    {
      "cell_type": "code",
      "execution_count": 3,
      "metadata": {
        "id": "lhoqJqgs-NOH",
        "outputId": "9b21a4c0-2113-4e04-9ecd-b9e08b214050",
        "colab": {
          "base_uri": "https://localhost:8080/"
        }
      },
      "outputs": [
        {
          "output_type": "execute_result",
          "data": {
            "text/plain": [
              "pandas.core.frame.DataFrame"
            ]
          },
          "metadata": {},
          "execution_count": 3
        }
      ],
      "source": [
        "# class of the object\n",
        "type(leads_df)"
      ]
    },
    {
      "cell_type": "code",
      "execution_count": 4,
      "metadata": {
        "id": "ELyO0mZB-NOH",
        "outputId": "fcc22085-fd60-4b9a-96e3-5bdef264dfb4",
        "colab": {
          "base_uri": "https://localhost:8080/"
        }
      },
      "outputs": [
        {
          "output_type": "execute_result",
          "data": {
            "text/plain": [
              "(9240, 9)"
            ]
          },
          "metadata": {},
          "execution_count": 4
        }
      ],
      "source": [
        "# how many rows and columns\n",
        "leads_df.shape"
      ]
    },
    {
      "cell_type": "code",
      "execution_count": 5,
      "metadata": {
        "id": "Ce-4JMj0-NOH",
        "outputId": "f514d8ea-3f74-4e8f-ce51-f5b49c1f5853",
        "colab": {
          "base_uri": "https://localhost:8080/",
          "height": 363
        }
      },
      "outputs": [
        {
          "output_type": "execute_result",
          "data": {
            "text/plain": [
              "                             ProspectID LeadOrigin      LeadSource  \\\n",
              "0  95caf95f-6873-6558-7d21-88235eee7dd3        API            bing   \n",
              "1  1de8d6ec-3340-94f5-768b-4aae14c997f1        API            bing   \n",
              "2  7020216b-0797-5f0a-0e4d-ad6be3d68867        API            bing   \n",
              "3  2865ee51-960b-33ee-2901-c4b37e2d6b98        API            bing   \n",
              "4  78649a2e-9183-01f4-353a-290253f29a74        API  Direct Traffic   \n",
              "5  b5fad5ed-1fcf-02f1-1b1f-26d1b230a361        API  Direct Traffic   \n",
              "6  b5b5f719-5412-7db3-9b6e-5a5e711fa0f3        API  Direct Traffic   \n",
              "7  fa925066-0e45-3c1d-2abe-97d1ed082cb9        API  Direct Traffic   \n",
              "8  4d15185b-259b-4f4d-0953-754e326659da        API  Direct Traffic   \n",
              "9  ce75de52-1609-6439-39e3-6defa09743bc        API  Direct Traffic   \n",
              "\n",
              "   TotalVisits  TotalTime  PageViews        Specialization  Occupation  \\\n",
              "0            2         88       1.00                Select  Unemployed   \n",
              "1            1        153       1.00                   NaN       Other   \n",
              "2            1        458       1.00                   NaN       Other   \n",
              "3            3        358       3.00                   NaN       Other   \n",
              "4           10       1082       3.33  Marketing Management       Other   \n",
              "5            9       1241       3.00                Select     Student   \n",
              "6            3        342       3.00                Select  Unemployed   \n",
              "7            5       1566       5.00                Select  Unemployed   \n",
              "8            2        205       2.00                Select  Unemployed   \n",
              "9            5       1837       2.50    Finance Management  Unemployed   \n",
              "\n",
              "   Converted  \n",
              "0          0  \n",
              "1          0  \n",
              "2          0  \n",
              "3          0  \n",
              "4          0  \n",
              "5          0  \n",
              "6          0  \n",
              "7          0  \n",
              "8          0  \n",
              "9          1  "
            ],
            "text/html": [
              "\n",
              "  <div id=\"df-ad3ade82-a4df-4b86-a2c3-1edd51f58e1d\" class=\"colab-df-container\">\n",
              "    <div>\n",
              "<style scoped>\n",
              "    .dataframe tbody tr th:only-of-type {\n",
              "        vertical-align: middle;\n",
              "    }\n",
              "\n",
              "    .dataframe tbody tr th {\n",
              "        vertical-align: top;\n",
              "    }\n",
              "\n",
              "    .dataframe thead th {\n",
              "        text-align: right;\n",
              "    }\n",
              "</style>\n",
              "<table border=\"1\" class=\"dataframe\">\n",
              "  <thead>\n",
              "    <tr style=\"text-align: right;\">\n",
              "      <th></th>\n",
              "      <th>ProspectID</th>\n",
              "      <th>LeadOrigin</th>\n",
              "      <th>LeadSource</th>\n",
              "      <th>TotalVisits</th>\n",
              "      <th>TotalTime</th>\n",
              "      <th>PageViews</th>\n",
              "      <th>Specialization</th>\n",
              "      <th>Occupation</th>\n",
              "      <th>Converted</th>\n",
              "    </tr>\n",
              "  </thead>\n",
              "  <tbody>\n",
              "    <tr>\n",
              "      <th>0</th>\n",
              "      <td>95caf95f-6873-6558-7d21-88235eee7dd3</td>\n",
              "      <td>API</td>\n",
              "      <td>bing</td>\n",
              "      <td>2</td>\n",
              "      <td>88</td>\n",
              "      <td>1.00</td>\n",
              "      <td>Select</td>\n",
              "      <td>Unemployed</td>\n",
              "      <td>0</td>\n",
              "    </tr>\n",
              "    <tr>\n",
              "      <th>1</th>\n",
              "      <td>1de8d6ec-3340-94f5-768b-4aae14c997f1</td>\n",
              "      <td>API</td>\n",
              "      <td>bing</td>\n",
              "      <td>1</td>\n",
              "      <td>153</td>\n",
              "      <td>1.00</td>\n",
              "      <td>NaN</td>\n",
              "      <td>Other</td>\n",
              "      <td>0</td>\n",
              "    </tr>\n",
              "    <tr>\n",
              "      <th>2</th>\n",
              "      <td>7020216b-0797-5f0a-0e4d-ad6be3d68867</td>\n",
              "      <td>API</td>\n",
              "      <td>bing</td>\n",
              "      <td>1</td>\n",
              "      <td>458</td>\n",
              "      <td>1.00</td>\n",
              "      <td>NaN</td>\n",
              "      <td>Other</td>\n",
              "      <td>0</td>\n",
              "    </tr>\n",
              "    <tr>\n",
              "      <th>3</th>\n",
              "      <td>2865ee51-960b-33ee-2901-c4b37e2d6b98</td>\n",
              "      <td>API</td>\n",
              "      <td>bing</td>\n",
              "      <td>3</td>\n",
              "      <td>358</td>\n",
              "      <td>3.00</td>\n",
              "      <td>NaN</td>\n",
              "      <td>Other</td>\n",
              "      <td>0</td>\n",
              "    </tr>\n",
              "    <tr>\n",
              "      <th>4</th>\n",
              "      <td>78649a2e-9183-01f4-353a-290253f29a74</td>\n",
              "      <td>API</td>\n",
              "      <td>Direct Traffic</td>\n",
              "      <td>10</td>\n",
              "      <td>1082</td>\n",
              "      <td>3.33</td>\n",
              "      <td>Marketing Management</td>\n",
              "      <td>Other</td>\n",
              "      <td>0</td>\n",
              "    </tr>\n",
              "    <tr>\n",
              "      <th>5</th>\n",
              "      <td>b5fad5ed-1fcf-02f1-1b1f-26d1b230a361</td>\n",
              "      <td>API</td>\n",
              "      <td>Direct Traffic</td>\n",
              "      <td>9</td>\n",
              "      <td>1241</td>\n",
              "      <td>3.00</td>\n",
              "      <td>Select</td>\n",
              "      <td>Student</td>\n",
              "      <td>0</td>\n",
              "    </tr>\n",
              "    <tr>\n",
              "      <th>6</th>\n",
              "      <td>b5b5f719-5412-7db3-9b6e-5a5e711fa0f3</td>\n",
              "      <td>API</td>\n",
              "      <td>Direct Traffic</td>\n",
              "      <td>3</td>\n",
              "      <td>342</td>\n",
              "      <td>3.00</td>\n",
              "      <td>Select</td>\n",
              "      <td>Unemployed</td>\n",
              "      <td>0</td>\n",
              "    </tr>\n",
              "    <tr>\n",
              "      <th>7</th>\n",
              "      <td>fa925066-0e45-3c1d-2abe-97d1ed082cb9</td>\n",
              "      <td>API</td>\n",
              "      <td>Direct Traffic</td>\n",
              "      <td>5</td>\n",
              "      <td>1566</td>\n",
              "      <td>5.00</td>\n",
              "      <td>Select</td>\n",
              "      <td>Unemployed</td>\n",
              "      <td>0</td>\n",
              "    </tr>\n",
              "    <tr>\n",
              "      <th>8</th>\n",
              "      <td>4d15185b-259b-4f4d-0953-754e326659da</td>\n",
              "      <td>API</td>\n",
              "      <td>Direct Traffic</td>\n",
              "      <td>2</td>\n",
              "      <td>205</td>\n",
              "      <td>2.00</td>\n",
              "      <td>Select</td>\n",
              "      <td>Unemployed</td>\n",
              "      <td>0</td>\n",
              "    </tr>\n",
              "    <tr>\n",
              "      <th>9</th>\n",
              "      <td>ce75de52-1609-6439-39e3-6defa09743bc</td>\n",
              "      <td>API</td>\n",
              "      <td>Direct Traffic</td>\n",
              "      <td>5</td>\n",
              "      <td>1837</td>\n",
              "      <td>2.50</td>\n",
              "      <td>Finance Management</td>\n",
              "      <td>Unemployed</td>\n",
              "      <td>1</td>\n",
              "    </tr>\n",
              "  </tbody>\n",
              "</table>\n",
              "</div>\n",
              "    <div class=\"colab-df-buttons\">\n",
              "\n",
              "  <div class=\"colab-df-container\">\n",
              "    <button class=\"colab-df-convert\" onclick=\"convertToInteractive('df-ad3ade82-a4df-4b86-a2c3-1edd51f58e1d')\"\n",
              "            title=\"Convert this dataframe to an interactive table.\"\n",
              "            style=\"display:none;\">\n",
              "\n",
              "  <svg xmlns=\"http://www.w3.org/2000/svg\" height=\"24px\" viewBox=\"0 -960 960 960\">\n",
              "    <path d=\"M120-120v-720h720v720H120Zm60-500h600v-160H180v160Zm220 220h160v-160H400v160Zm0 220h160v-160H400v160ZM180-400h160v-160H180v160Zm440 0h160v-160H620v160ZM180-180h160v-160H180v160Zm440 0h160v-160H620v160Z\"/>\n",
              "  </svg>\n",
              "    </button>\n",
              "\n",
              "  <style>\n",
              "    .colab-df-container {\n",
              "      display:flex;\n",
              "      gap: 12px;\n",
              "    }\n",
              "\n",
              "    .colab-df-convert {\n",
              "      background-color: #E8F0FE;\n",
              "      border: none;\n",
              "      border-radius: 50%;\n",
              "      cursor: pointer;\n",
              "      display: none;\n",
              "      fill: #1967D2;\n",
              "      height: 32px;\n",
              "      padding: 0 0 0 0;\n",
              "      width: 32px;\n",
              "    }\n",
              "\n",
              "    .colab-df-convert:hover {\n",
              "      background-color: #E2EBFA;\n",
              "      box-shadow: 0px 1px 2px rgba(60, 64, 67, 0.3), 0px 1px 3px 1px rgba(60, 64, 67, 0.15);\n",
              "      fill: #174EA6;\n",
              "    }\n",
              "\n",
              "    .colab-df-buttons div {\n",
              "      margin-bottom: 4px;\n",
              "    }\n",
              "\n",
              "    [theme=dark] .colab-df-convert {\n",
              "      background-color: #3B4455;\n",
              "      fill: #D2E3FC;\n",
              "    }\n",
              "\n",
              "    [theme=dark] .colab-df-convert:hover {\n",
              "      background-color: #434B5C;\n",
              "      box-shadow: 0px 1px 3px 1px rgba(0, 0, 0, 0.15);\n",
              "      filter: drop-shadow(0px 1px 2px rgba(0, 0, 0, 0.3));\n",
              "      fill: #FFFFFF;\n",
              "    }\n",
              "  </style>\n",
              "\n",
              "    <script>\n",
              "      const buttonEl =\n",
              "        document.querySelector('#df-ad3ade82-a4df-4b86-a2c3-1edd51f58e1d button.colab-df-convert');\n",
              "      buttonEl.style.display =\n",
              "        google.colab.kernel.accessAllowed ? 'block' : 'none';\n",
              "\n",
              "      async function convertToInteractive(key) {\n",
              "        const element = document.querySelector('#df-ad3ade82-a4df-4b86-a2c3-1edd51f58e1d');\n",
              "        const dataTable =\n",
              "          await google.colab.kernel.invokeFunction('convertToInteractive',\n",
              "                                                    [key], {});\n",
              "        if (!dataTable) return;\n",
              "\n",
              "        const docLinkHtml = 'Like what you see? Visit the ' +\n",
              "          '<a target=\"_blank\" href=https://colab.research.google.com/notebooks/data_table.ipynb>data table notebook</a>'\n",
              "          + ' to learn more about interactive tables.';\n",
              "        element.innerHTML = '';\n",
              "        dataTable['output_type'] = 'display_data';\n",
              "        await google.colab.output.renderOutput(dataTable, element);\n",
              "        const docLink = document.createElement('div');\n",
              "        docLink.innerHTML = docLinkHtml;\n",
              "        element.appendChild(docLink);\n",
              "      }\n",
              "    </script>\n",
              "  </div>\n",
              "\n",
              "\n",
              "<div id=\"df-b6d6e2f5-084b-4756-90e1-c5f6bc1abbaa\">\n",
              "  <button class=\"colab-df-quickchart\" onclick=\"quickchart('df-b6d6e2f5-084b-4756-90e1-c5f6bc1abbaa')\"\n",
              "            title=\"Suggest charts.\"\n",
              "            style=\"display:none;\">\n",
              "\n",
              "<svg xmlns=\"http://www.w3.org/2000/svg\" height=\"24px\"viewBox=\"0 0 24 24\"\n",
              "     width=\"24px\">\n",
              "    <g>\n",
              "        <path d=\"M19 3H5c-1.1 0-2 .9-2 2v14c0 1.1.9 2 2 2h14c1.1 0 2-.9 2-2V5c0-1.1-.9-2-2-2zM9 17H7v-7h2v7zm4 0h-2V7h2v10zm4 0h-2v-4h2v4z\"/>\n",
              "    </g>\n",
              "</svg>\n",
              "  </button>\n",
              "\n",
              "<style>\n",
              "  .colab-df-quickchart {\n",
              "      --bg-color: #E8F0FE;\n",
              "      --fill-color: #1967D2;\n",
              "      --hover-bg-color: #E2EBFA;\n",
              "      --hover-fill-color: #174EA6;\n",
              "      --disabled-fill-color: #AAA;\n",
              "      --disabled-bg-color: #DDD;\n",
              "  }\n",
              "\n",
              "  [theme=dark] .colab-df-quickchart {\n",
              "      --bg-color: #3B4455;\n",
              "      --fill-color: #D2E3FC;\n",
              "      --hover-bg-color: #434B5C;\n",
              "      --hover-fill-color: #FFFFFF;\n",
              "      --disabled-bg-color: #3B4455;\n",
              "      --disabled-fill-color: #666;\n",
              "  }\n",
              "\n",
              "  .colab-df-quickchart {\n",
              "    background-color: var(--bg-color);\n",
              "    border: none;\n",
              "    border-radius: 50%;\n",
              "    cursor: pointer;\n",
              "    display: none;\n",
              "    fill: var(--fill-color);\n",
              "    height: 32px;\n",
              "    padding: 0;\n",
              "    width: 32px;\n",
              "  }\n",
              "\n",
              "  .colab-df-quickchart:hover {\n",
              "    background-color: var(--hover-bg-color);\n",
              "    box-shadow: 0 1px 2px rgba(60, 64, 67, 0.3), 0 1px 3px 1px rgba(60, 64, 67, 0.15);\n",
              "    fill: var(--button-hover-fill-color);\n",
              "  }\n",
              "\n",
              "  .colab-df-quickchart-complete:disabled,\n",
              "  .colab-df-quickchart-complete:disabled:hover {\n",
              "    background-color: var(--disabled-bg-color);\n",
              "    fill: var(--disabled-fill-color);\n",
              "    box-shadow: none;\n",
              "  }\n",
              "\n",
              "  .colab-df-spinner {\n",
              "    border: 2px solid var(--fill-color);\n",
              "    border-color: transparent;\n",
              "    border-bottom-color: var(--fill-color);\n",
              "    animation:\n",
              "      spin 1s steps(1) infinite;\n",
              "  }\n",
              "\n",
              "  @keyframes spin {\n",
              "    0% {\n",
              "      border-color: transparent;\n",
              "      border-bottom-color: var(--fill-color);\n",
              "      border-left-color: var(--fill-color);\n",
              "    }\n",
              "    20% {\n",
              "      border-color: transparent;\n",
              "      border-left-color: var(--fill-color);\n",
              "      border-top-color: var(--fill-color);\n",
              "    }\n",
              "    30% {\n",
              "      border-color: transparent;\n",
              "      border-left-color: var(--fill-color);\n",
              "      border-top-color: var(--fill-color);\n",
              "      border-right-color: var(--fill-color);\n",
              "    }\n",
              "    40% {\n",
              "      border-color: transparent;\n",
              "      border-right-color: var(--fill-color);\n",
              "      border-top-color: var(--fill-color);\n",
              "    }\n",
              "    60% {\n",
              "      border-color: transparent;\n",
              "      border-right-color: var(--fill-color);\n",
              "    }\n",
              "    80% {\n",
              "      border-color: transparent;\n",
              "      border-right-color: var(--fill-color);\n",
              "      border-bottom-color: var(--fill-color);\n",
              "    }\n",
              "    90% {\n",
              "      border-color: transparent;\n",
              "      border-bottom-color: var(--fill-color);\n",
              "    }\n",
              "  }\n",
              "</style>\n",
              "\n",
              "  <script>\n",
              "    async function quickchart(key) {\n",
              "      const quickchartButtonEl =\n",
              "        document.querySelector('#' + key + ' button');\n",
              "      quickchartButtonEl.disabled = true;  // To prevent multiple clicks.\n",
              "      quickchartButtonEl.classList.add('colab-df-spinner');\n",
              "      try {\n",
              "        const charts = await google.colab.kernel.invokeFunction(\n",
              "            'suggestCharts', [key], {});\n",
              "      } catch (error) {\n",
              "        console.error('Error during call to suggestCharts:', error);\n",
              "      }\n",
              "      quickchartButtonEl.classList.remove('colab-df-spinner');\n",
              "      quickchartButtonEl.classList.add('colab-df-quickchart-complete');\n",
              "    }\n",
              "    (() => {\n",
              "      let quickchartButtonEl =\n",
              "        document.querySelector('#df-b6d6e2f5-084b-4756-90e1-c5f6bc1abbaa button');\n",
              "      quickchartButtonEl.style.display =\n",
              "        google.colab.kernel.accessAllowed ? 'block' : 'none';\n",
              "    })();\n",
              "  </script>\n",
              "</div>\n",
              "    </div>\n",
              "  </div>\n"
            ]
          },
          "metadata": {},
          "execution_count": 5
        }
      ],
      "source": [
        "# top 10 rows of the dataframe df.head()\n",
        "leads_df.head(10)"
      ]
    },
    {
      "cell_type": "code",
      "execution_count": 6,
      "metadata": {
        "id": "r4kguFbN-NOH"
      },
      "outputs": [],
      "source": [
        "# bottom 5 rows of the dataframe try df.tail()"
      ]
    },
    {
      "cell_type": "code",
      "execution_count": 7,
      "metadata": {
        "id": "5VhL7kfS-NOI",
        "outputId": "7413d4de-0dc1-4aee-bdee-f6a0e9489f86",
        "colab": {
          "base_uri": "https://localhost:8080/",
          "height": 300
        }
      },
      "outputs": [
        {
          "output_type": "execute_result",
          "data": {
            "text/plain": [
              "       TotalVisits    TotalTime    PageViews    Converted\n",
              "count  9240.000000  9240.000000  9240.000000  9240.000000\n",
              "mean      3.394156   487.698268     2.327787     0.385390\n",
              "std       4.836682   548.021466     2.164258     0.486714\n",
              "min       0.000000     0.000000     0.000000     0.000000\n",
              "25%       0.000000    12.000000     0.000000     0.000000\n",
              "50%       3.000000   248.000000     2.000000     0.000000\n",
              "75%       5.000000   936.000000     3.000000     1.000000\n",
              "max     251.000000  2272.000000    55.000000     1.000000"
            ],
            "text/html": [
              "\n",
              "  <div id=\"df-a0286420-b98f-4c60-85b8-7ec90be427ae\" class=\"colab-df-container\">\n",
              "    <div>\n",
              "<style scoped>\n",
              "    .dataframe tbody tr th:only-of-type {\n",
              "        vertical-align: middle;\n",
              "    }\n",
              "\n",
              "    .dataframe tbody tr th {\n",
              "        vertical-align: top;\n",
              "    }\n",
              "\n",
              "    .dataframe thead th {\n",
              "        text-align: right;\n",
              "    }\n",
              "</style>\n",
              "<table border=\"1\" class=\"dataframe\">\n",
              "  <thead>\n",
              "    <tr style=\"text-align: right;\">\n",
              "      <th></th>\n",
              "      <th>TotalVisits</th>\n",
              "      <th>TotalTime</th>\n",
              "      <th>PageViews</th>\n",
              "      <th>Converted</th>\n",
              "    </tr>\n",
              "  </thead>\n",
              "  <tbody>\n",
              "    <tr>\n",
              "      <th>count</th>\n",
              "      <td>9240.000000</td>\n",
              "      <td>9240.000000</td>\n",
              "      <td>9240.000000</td>\n",
              "      <td>9240.000000</td>\n",
              "    </tr>\n",
              "    <tr>\n",
              "      <th>mean</th>\n",
              "      <td>3.394156</td>\n",
              "      <td>487.698268</td>\n",
              "      <td>2.327787</td>\n",
              "      <td>0.385390</td>\n",
              "    </tr>\n",
              "    <tr>\n",
              "      <th>std</th>\n",
              "      <td>4.836682</td>\n",
              "      <td>548.021466</td>\n",
              "      <td>2.164258</td>\n",
              "      <td>0.486714</td>\n",
              "    </tr>\n",
              "    <tr>\n",
              "      <th>min</th>\n",
              "      <td>0.000000</td>\n",
              "      <td>0.000000</td>\n",
              "      <td>0.000000</td>\n",
              "      <td>0.000000</td>\n",
              "    </tr>\n",
              "    <tr>\n",
              "      <th>25%</th>\n",
              "      <td>0.000000</td>\n",
              "      <td>12.000000</td>\n",
              "      <td>0.000000</td>\n",
              "      <td>0.000000</td>\n",
              "    </tr>\n",
              "    <tr>\n",
              "      <th>50%</th>\n",
              "      <td>3.000000</td>\n",
              "      <td>248.000000</td>\n",
              "      <td>2.000000</td>\n",
              "      <td>0.000000</td>\n",
              "    </tr>\n",
              "    <tr>\n",
              "      <th>75%</th>\n",
              "      <td>5.000000</td>\n",
              "      <td>936.000000</td>\n",
              "      <td>3.000000</td>\n",
              "      <td>1.000000</td>\n",
              "    </tr>\n",
              "    <tr>\n",
              "      <th>max</th>\n",
              "      <td>251.000000</td>\n",
              "      <td>2272.000000</td>\n",
              "      <td>55.000000</td>\n",
              "      <td>1.000000</td>\n",
              "    </tr>\n",
              "  </tbody>\n",
              "</table>\n",
              "</div>\n",
              "    <div class=\"colab-df-buttons\">\n",
              "\n",
              "  <div class=\"colab-df-container\">\n",
              "    <button class=\"colab-df-convert\" onclick=\"convertToInteractive('df-a0286420-b98f-4c60-85b8-7ec90be427ae')\"\n",
              "            title=\"Convert this dataframe to an interactive table.\"\n",
              "            style=\"display:none;\">\n",
              "\n",
              "  <svg xmlns=\"http://www.w3.org/2000/svg\" height=\"24px\" viewBox=\"0 -960 960 960\">\n",
              "    <path d=\"M120-120v-720h720v720H120Zm60-500h600v-160H180v160Zm220 220h160v-160H400v160Zm0 220h160v-160H400v160ZM180-400h160v-160H180v160Zm440 0h160v-160H620v160ZM180-180h160v-160H180v160Zm440 0h160v-160H620v160Z\"/>\n",
              "  </svg>\n",
              "    </button>\n",
              "\n",
              "  <style>\n",
              "    .colab-df-container {\n",
              "      display:flex;\n",
              "      gap: 12px;\n",
              "    }\n",
              "\n",
              "    .colab-df-convert {\n",
              "      background-color: #E8F0FE;\n",
              "      border: none;\n",
              "      border-radius: 50%;\n",
              "      cursor: pointer;\n",
              "      display: none;\n",
              "      fill: #1967D2;\n",
              "      height: 32px;\n",
              "      padding: 0 0 0 0;\n",
              "      width: 32px;\n",
              "    }\n",
              "\n",
              "    .colab-df-convert:hover {\n",
              "      background-color: #E2EBFA;\n",
              "      box-shadow: 0px 1px 2px rgba(60, 64, 67, 0.3), 0px 1px 3px 1px rgba(60, 64, 67, 0.15);\n",
              "      fill: #174EA6;\n",
              "    }\n",
              "\n",
              "    .colab-df-buttons div {\n",
              "      margin-bottom: 4px;\n",
              "    }\n",
              "\n",
              "    [theme=dark] .colab-df-convert {\n",
              "      background-color: #3B4455;\n",
              "      fill: #D2E3FC;\n",
              "    }\n",
              "\n",
              "    [theme=dark] .colab-df-convert:hover {\n",
              "      background-color: #434B5C;\n",
              "      box-shadow: 0px 1px 3px 1px rgba(0, 0, 0, 0.15);\n",
              "      filter: drop-shadow(0px 1px 2px rgba(0, 0, 0, 0.3));\n",
              "      fill: #FFFFFF;\n",
              "    }\n",
              "  </style>\n",
              "\n",
              "    <script>\n",
              "      const buttonEl =\n",
              "        document.querySelector('#df-a0286420-b98f-4c60-85b8-7ec90be427ae button.colab-df-convert');\n",
              "      buttonEl.style.display =\n",
              "        google.colab.kernel.accessAllowed ? 'block' : 'none';\n",
              "\n",
              "      async function convertToInteractive(key) {\n",
              "        const element = document.querySelector('#df-a0286420-b98f-4c60-85b8-7ec90be427ae');\n",
              "        const dataTable =\n",
              "          await google.colab.kernel.invokeFunction('convertToInteractive',\n",
              "                                                    [key], {});\n",
              "        if (!dataTable) return;\n",
              "\n",
              "        const docLinkHtml = 'Like what you see? Visit the ' +\n",
              "          '<a target=\"_blank\" href=https://colab.research.google.com/notebooks/data_table.ipynb>data table notebook</a>'\n",
              "          + ' to learn more about interactive tables.';\n",
              "        element.innerHTML = '';\n",
              "        dataTable['output_type'] = 'display_data';\n",
              "        await google.colab.output.renderOutput(dataTable, element);\n",
              "        const docLink = document.createElement('div');\n",
              "        docLink.innerHTML = docLinkHtml;\n",
              "        element.appendChild(docLink);\n",
              "      }\n",
              "    </script>\n",
              "  </div>\n",
              "\n",
              "\n",
              "<div id=\"df-8d15cfb0-7632-4af4-ba09-ee2545dde57a\">\n",
              "  <button class=\"colab-df-quickchart\" onclick=\"quickchart('df-8d15cfb0-7632-4af4-ba09-ee2545dde57a')\"\n",
              "            title=\"Suggest charts.\"\n",
              "            style=\"display:none;\">\n",
              "\n",
              "<svg xmlns=\"http://www.w3.org/2000/svg\" height=\"24px\"viewBox=\"0 0 24 24\"\n",
              "     width=\"24px\">\n",
              "    <g>\n",
              "        <path d=\"M19 3H5c-1.1 0-2 .9-2 2v14c0 1.1.9 2 2 2h14c1.1 0 2-.9 2-2V5c0-1.1-.9-2-2-2zM9 17H7v-7h2v7zm4 0h-2V7h2v10zm4 0h-2v-4h2v4z\"/>\n",
              "    </g>\n",
              "</svg>\n",
              "  </button>\n",
              "\n",
              "<style>\n",
              "  .colab-df-quickchart {\n",
              "      --bg-color: #E8F0FE;\n",
              "      --fill-color: #1967D2;\n",
              "      --hover-bg-color: #E2EBFA;\n",
              "      --hover-fill-color: #174EA6;\n",
              "      --disabled-fill-color: #AAA;\n",
              "      --disabled-bg-color: #DDD;\n",
              "  }\n",
              "\n",
              "  [theme=dark] .colab-df-quickchart {\n",
              "      --bg-color: #3B4455;\n",
              "      --fill-color: #D2E3FC;\n",
              "      --hover-bg-color: #434B5C;\n",
              "      --hover-fill-color: #FFFFFF;\n",
              "      --disabled-bg-color: #3B4455;\n",
              "      --disabled-fill-color: #666;\n",
              "  }\n",
              "\n",
              "  .colab-df-quickchart {\n",
              "    background-color: var(--bg-color);\n",
              "    border: none;\n",
              "    border-radius: 50%;\n",
              "    cursor: pointer;\n",
              "    display: none;\n",
              "    fill: var(--fill-color);\n",
              "    height: 32px;\n",
              "    padding: 0;\n",
              "    width: 32px;\n",
              "  }\n",
              "\n",
              "  .colab-df-quickchart:hover {\n",
              "    background-color: var(--hover-bg-color);\n",
              "    box-shadow: 0 1px 2px rgba(60, 64, 67, 0.3), 0 1px 3px 1px rgba(60, 64, 67, 0.15);\n",
              "    fill: var(--button-hover-fill-color);\n",
              "  }\n",
              "\n",
              "  .colab-df-quickchart-complete:disabled,\n",
              "  .colab-df-quickchart-complete:disabled:hover {\n",
              "    background-color: var(--disabled-bg-color);\n",
              "    fill: var(--disabled-fill-color);\n",
              "    box-shadow: none;\n",
              "  }\n",
              "\n",
              "  .colab-df-spinner {\n",
              "    border: 2px solid var(--fill-color);\n",
              "    border-color: transparent;\n",
              "    border-bottom-color: var(--fill-color);\n",
              "    animation:\n",
              "      spin 1s steps(1) infinite;\n",
              "  }\n",
              "\n",
              "  @keyframes spin {\n",
              "    0% {\n",
              "      border-color: transparent;\n",
              "      border-bottom-color: var(--fill-color);\n",
              "      border-left-color: var(--fill-color);\n",
              "    }\n",
              "    20% {\n",
              "      border-color: transparent;\n",
              "      border-left-color: var(--fill-color);\n",
              "      border-top-color: var(--fill-color);\n",
              "    }\n",
              "    30% {\n",
              "      border-color: transparent;\n",
              "      border-left-color: var(--fill-color);\n",
              "      border-top-color: var(--fill-color);\n",
              "      border-right-color: var(--fill-color);\n",
              "    }\n",
              "    40% {\n",
              "      border-color: transparent;\n",
              "      border-right-color: var(--fill-color);\n",
              "      border-top-color: var(--fill-color);\n",
              "    }\n",
              "    60% {\n",
              "      border-color: transparent;\n",
              "      border-right-color: var(--fill-color);\n",
              "    }\n",
              "    80% {\n",
              "      border-color: transparent;\n",
              "      border-right-color: var(--fill-color);\n",
              "      border-bottom-color: var(--fill-color);\n",
              "    }\n",
              "    90% {\n",
              "      border-color: transparent;\n",
              "      border-bottom-color: var(--fill-color);\n",
              "    }\n",
              "  }\n",
              "</style>\n",
              "\n",
              "  <script>\n",
              "    async function quickchart(key) {\n",
              "      const quickchartButtonEl =\n",
              "        document.querySelector('#' + key + ' button');\n",
              "      quickchartButtonEl.disabled = true;  // To prevent multiple clicks.\n",
              "      quickchartButtonEl.classList.add('colab-df-spinner');\n",
              "      try {\n",
              "        const charts = await google.colab.kernel.invokeFunction(\n",
              "            'suggestCharts', [key], {});\n",
              "      } catch (error) {\n",
              "        console.error('Error during call to suggestCharts:', error);\n",
              "      }\n",
              "      quickchartButtonEl.classList.remove('colab-df-spinner');\n",
              "      quickchartButtonEl.classList.add('colab-df-quickchart-complete');\n",
              "    }\n",
              "    (() => {\n",
              "      let quickchartButtonEl =\n",
              "        document.querySelector('#df-8d15cfb0-7632-4af4-ba09-ee2545dde57a button');\n",
              "      quickchartButtonEl.style.display =\n",
              "        google.colab.kernel.accessAllowed ? 'block' : 'none';\n",
              "    })();\n",
              "  </script>\n",
              "</div>\n",
              "    </div>\n",
              "  </div>\n"
            ]
          },
          "metadata": {},
          "execution_count": 7
        }
      ],
      "source": [
        "# describe\n",
        "leads_df.describe()"
      ]
    },
    {
      "cell_type": "code",
      "execution_count": 8,
      "metadata": {
        "id": "r5bk8r7u-NOI",
        "outputId": "98053465-30ed-4baf-dece-9a1c00f56a3a",
        "colab": {
          "base_uri": "https://localhost:8080/",
          "height": 394
        }
      },
      "outputs": [
        {
          "output_type": "execute_result",
          "data": {
            "text/plain": [
              "                                  ProspectID               LeadOrigin  \\\n",
              "count                                   9240                     9240   \n",
              "unique                                  9240                        4   \n",
              "top     95caf95f-6873-6558-7d21-88235eee7dd3  Landing Page Submission   \n",
              "freq                                       1                     4886   \n",
              "mean                                     NaN                      NaN   \n",
              "std                                      NaN                      NaN   \n",
              "min                                      NaN                      NaN   \n",
              "25%                                      NaN                      NaN   \n",
              "50%                                      NaN                      NaN   \n",
              "75%                                      NaN                      NaN   \n",
              "max                                      NaN                      NaN   \n",
              "\n",
              "       LeadSource  TotalVisits    TotalTime    PageViews Specialization  \\\n",
              "count        9240  9240.000000  9240.000000  9240.000000           7802   \n",
              "unique         11          NaN          NaN          NaN             17   \n",
              "top        Google          NaN          NaN          NaN         Select   \n",
              "freq         2869          NaN          NaN          NaN           1942   \n",
              "mean          NaN     3.394156   487.698268     2.327787            NaN   \n",
              "std           NaN     4.836682   548.021466     2.164258            NaN   \n",
              "min           NaN     0.000000     0.000000     0.000000            NaN   \n",
              "25%           NaN     0.000000    12.000000     0.000000            NaN   \n",
              "50%           NaN     3.000000   248.000000     2.000000            NaN   \n",
              "75%           NaN     5.000000   936.000000     3.000000            NaN   \n",
              "max           NaN   251.000000  2272.000000    55.000000            NaN   \n",
              "\n",
              "        Occupation    Converted  \n",
              "count         9240  9240.000000  \n",
              "unique           4          NaN  \n",
              "top     Unemployed          NaN  \n",
              "freq          5610          NaN  \n",
              "mean           NaN     0.385390  \n",
              "std            NaN     0.486714  \n",
              "min            NaN     0.000000  \n",
              "25%            NaN     0.000000  \n",
              "50%            NaN     0.000000  \n",
              "75%            NaN     1.000000  \n",
              "max            NaN     1.000000  "
            ],
            "text/html": [
              "\n",
              "  <div id=\"df-20936206-3801-4259-a5ae-16a6e17c68aa\" class=\"colab-df-container\">\n",
              "    <div>\n",
              "<style scoped>\n",
              "    .dataframe tbody tr th:only-of-type {\n",
              "        vertical-align: middle;\n",
              "    }\n",
              "\n",
              "    .dataframe tbody tr th {\n",
              "        vertical-align: top;\n",
              "    }\n",
              "\n",
              "    .dataframe thead th {\n",
              "        text-align: right;\n",
              "    }\n",
              "</style>\n",
              "<table border=\"1\" class=\"dataframe\">\n",
              "  <thead>\n",
              "    <tr style=\"text-align: right;\">\n",
              "      <th></th>\n",
              "      <th>ProspectID</th>\n",
              "      <th>LeadOrigin</th>\n",
              "      <th>LeadSource</th>\n",
              "      <th>TotalVisits</th>\n",
              "      <th>TotalTime</th>\n",
              "      <th>PageViews</th>\n",
              "      <th>Specialization</th>\n",
              "      <th>Occupation</th>\n",
              "      <th>Converted</th>\n",
              "    </tr>\n",
              "  </thead>\n",
              "  <tbody>\n",
              "    <tr>\n",
              "      <th>count</th>\n",
              "      <td>9240</td>\n",
              "      <td>9240</td>\n",
              "      <td>9240</td>\n",
              "      <td>9240.000000</td>\n",
              "      <td>9240.000000</td>\n",
              "      <td>9240.000000</td>\n",
              "      <td>7802</td>\n",
              "      <td>9240</td>\n",
              "      <td>9240.000000</td>\n",
              "    </tr>\n",
              "    <tr>\n",
              "      <th>unique</th>\n",
              "      <td>9240</td>\n",
              "      <td>4</td>\n",
              "      <td>11</td>\n",
              "      <td>NaN</td>\n",
              "      <td>NaN</td>\n",
              "      <td>NaN</td>\n",
              "      <td>17</td>\n",
              "      <td>4</td>\n",
              "      <td>NaN</td>\n",
              "    </tr>\n",
              "    <tr>\n",
              "      <th>top</th>\n",
              "      <td>95caf95f-6873-6558-7d21-88235eee7dd3</td>\n",
              "      <td>Landing Page Submission</td>\n",
              "      <td>Google</td>\n",
              "      <td>NaN</td>\n",
              "      <td>NaN</td>\n",
              "      <td>NaN</td>\n",
              "      <td>Select</td>\n",
              "      <td>Unemployed</td>\n",
              "      <td>NaN</td>\n",
              "    </tr>\n",
              "    <tr>\n",
              "      <th>freq</th>\n",
              "      <td>1</td>\n",
              "      <td>4886</td>\n",
              "      <td>2869</td>\n",
              "      <td>NaN</td>\n",
              "      <td>NaN</td>\n",
              "      <td>NaN</td>\n",
              "      <td>1942</td>\n",
              "      <td>5610</td>\n",
              "      <td>NaN</td>\n",
              "    </tr>\n",
              "    <tr>\n",
              "      <th>mean</th>\n",
              "      <td>NaN</td>\n",
              "      <td>NaN</td>\n",
              "      <td>NaN</td>\n",
              "      <td>3.394156</td>\n",
              "      <td>487.698268</td>\n",
              "      <td>2.327787</td>\n",
              "      <td>NaN</td>\n",
              "      <td>NaN</td>\n",
              "      <td>0.385390</td>\n",
              "    </tr>\n",
              "    <tr>\n",
              "      <th>std</th>\n",
              "      <td>NaN</td>\n",
              "      <td>NaN</td>\n",
              "      <td>NaN</td>\n",
              "      <td>4.836682</td>\n",
              "      <td>548.021466</td>\n",
              "      <td>2.164258</td>\n",
              "      <td>NaN</td>\n",
              "      <td>NaN</td>\n",
              "      <td>0.486714</td>\n",
              "    </tr>\n",
              "    <tr>\n",
              "      <th>min</th>\n",
              "      <td>NaN</td>\n",
              "      <td>NaN</td>\n",
              "      <td>NaN</td>\n",
              "      <td>0.000000</td>\n",
              "      <td>0.000000</td>\n",
              "      <td>0.000000</td>\n",
              "      <td>NaN</td>\n",
              "      <td>NaN</td>\n",
              "      <td>0.000000</td>\n",
              "    </tr>\n",
              "    <tr>\n",
              "      <th>25%</th>\n",
              "      <td>NaN</td>\n",
              "      <td>NaN</td>\n",
              "      <td>NaN</td>\n",
              "      <td>0.000000</td>\n",
              "      <td>12.000000</td>\n",
              "      <td>0.000000</td>\n",
              "      <td>NaN</td>\n",
              "      <td>NaN</td>\n",
              "      <td>0.000000</td>\n",
              "    </tr>\n",
              "    <tr>\n",
              "      <th>50%</th>\n",
              "      <td>NaN</td>\n",
              "      <td>NaN</td>\n",
              "      <td>NaN</td>\n",
              "      <td>3.000000</td>\n",
              "      <td>248.000000</td>\n",
              "      <td>2.000000</td>\n",
              "      <td>NaN</td>\n",
              "      <td>NaN</td>\n",
              "      <td>0.000000</td>\n",
              "    </tr>\n",
              "    <tr>\n",
              "      <th>75%</th>\n",
              "      <td>NaN</td>\n",
              "      <td>NaN</td>\n",
              "      <td>NaN</td>\n",
              "      <td>5.000000</td>\n",
              "      <td>936.000000</td>\n",
              "      <td>3.000000</td>\n",
              "      <td>NaN</td>\n",
              "      <td>NaN</td>\n",
              "      <td>1.000000</td>\n",
              "    </tr>\n",
              "    <tr>\n",
              "      <th>max</th>\n",
              "      <td>NaN</td>\n",
              "      <td>NaN</td>\n",
              "      <td>NaN</td>\n",
              "      <td>251.000000</td>\n",
              "      <td>2272.000000</td>\n",
              "      <td>55.000000</td>\n",
              "      <td>NaN</td>\n",
              "      <td>NaN</td>\n",
              "      <td>1.000000</td>\n",
              "    </tr>\n",
              "  </tbody>\n",
              "</table>\n",
              "</div>\n",
              "    <div class=\"colab-df-buttons\">\n",
              "\n",
              "  <div class=\"colab-df-container\">\n",
              "    <button class=\"colab-df-convert\" onclick=\"convertToInteractive('df-20936206-3801-4259-a5ae-16a6e17c68aa')\"\n",
              "            title=\"Convert this dataframe to an interactive table.\"\n",
              "            style=\"display:none;\">\n",
              "\n",
              "  <svg xmlns=\"http://www.w3.org/2000/svg\" height=\"24px\" viewBox=\"0 -960 960 960\">\n",
              "    <path d=\"M120-120v-720h720v720H120Zm60-500h600v-160H180v160Zm220 220h160v-160H400v160Zm0 220h160v-160H400v160ZM180-400h160v-160H180v160Zm440 0h160v-160H620v160ZM180-180h160v-160H180v160Zm440 0h160v-160H620v160Z\"/>\n",
              "  </svg>\n",
              "    </button>\n",
              "\n",
              "  <style>\n",
              "    .colab-df-container {\n",
              "      display:flex;\n",
              "      gap: 12px;\n",
              "    }\n",
              "\n",
              "    .colab-df-convert {\n",
              "      background-color: #E8F0FE;\n",
              "      border: none;\n",
              "      border-radius: 50%;\n",
              "      cursor: pointer;\n",
              "      display: none;\n",
              "      fill: #1967D2;\n",
              "      height: 32px;\n",
              "      padding: 0 0 0 0;\n",
              "      width: 32px;\n",
              "    }\n",
              "\n",
              "    .colab-df-convert:hover {\n",
              "      background-color: #E2EBFA;\n",
              "      box-shadow: 0px 1px 2px rgba(60, 64, 67, 0.3), 0px 1px 3px 1px rgba(60, 64, 67, 0.15);\n",
              "      fill: #174EA6;\n",
              "    }\n",
              "\n",
              "    .colab-df-buttons div {\n",
              "      margin-bottom: 4px;\n",
              "    }\n",
              "\n",
              "    [theme=dark] .colab-df-convert {\n",
              "      background-color: #3B4455;\n",
              "      fill: #D2E3FC;\n",
              "    }\n",
              "\n",
              "    [theme=dark] .colab-df-convert:hover {\n",
              "      background-color: #434B5C;\n",
              "      box-shadow: 0px 1px 3px 1px rgba(0, 0, 0, 0.15);\n",
              "      filter: drop-shadow(0px 1px 2px rgba(0, 0, 0, 0.3));\n",
              "      fill: #FFFFFF;\n",
              "    }\n",
              "  </style>\n",
              "\n",
              "    <script>\n",
              "      const buttonEl =\n",
              "        document.querySelector('#df-20936206-3801-4259-a5ae-16a6e17c68aa button.colab-df-convert');\n",
              "      buttonEl.style.display =\n",
              "        google.colab.kernel.accessAllowed ? 'block' : 'none';\n",
              "\n",
              "      async function convertToInteractive(key) {\n",
              "        const element = document.querySelector('#df-20936206-3801-4259-a5ae-16a6e17c68aa');\n",
              "        const dataTable =\n",
              "          await google.colab.kernel.invokeFunction('convertToInteractive',\n",
              "                                                    [key], {});\n",
              "        if (!dataTable) return;\n",
              "\n",
              "        const docLinkHtml = 'Like what you see? Visit the ' +\n",
              "          '<a target=\"_blank\" href=https://colab.research.google.com/notebooks/data_table.ipynb>data table notebook</a>'\n",
              "          + ' to learn more about interactive tables.';\n",
              "        element.innerHTML = '';\n",
              "        dataTable['output_type'] = 'display_data';\n",
              "        await google.colab.output.renderOutput(dataTable, element);\n",
              "        const docLink = document.createElement('div');\n",
              "        docLink.innerHTML = docLinkHtml;\n",
              "        element.appendChild(docLink);\n",
              "      }\n",
              "    </script>\n",
              "  </div>\n",
              "\n",
              "\n",
              "<div id=\"df-50114b6f-1f9a-49a2-96b4-ddb6e8e8b003\">\n",
              "  <button class=\"colab-df-quickchart\" onclick=\"quickchart('df-50114b6f-1f9a-49a2-96b4-ddb6e8e8b003')\"\n",
              "            title=\"Suggest charts.\"\n",
              "            style=\"display:none;\">\n",
              "\n",
              "<svg xmlns=\"http://www.w3.org/2000/svg\" height=\"24px\"viewBox=\"0 0 24 24\"\n",
              "     width=\"24px\">\n",
              "    <g>\n",
              "        <path d=\"M19 3H5c-1.1 0-2 .9-2 2v14c0 1.1.9 2 2 2h14c1.1 0 2-.9 2-2V5c0-1.1-.9-2-2-2zM9 17H7v-7h2v7zm4 0h-2V7h2v10zm4 0h-2v-4h2v4z\"/>\n",
              "    </g>\n",
              "</svg>\n",
              "  </button>\n",
              "\n",
              "<style>\n",
              "  .colab-df-quickchart {\n",
              "      --bg-color: #E8F0FE;\n",
              "      --fill-color: #1967D2;\n",
              "      --hover-bg-color: #E2EBFA;\n",
              "      --hover-fill-color: #174EA6;\n",
              "      --disabled-fill-color: #AAA;\n",
              "      --disabled-bg-color: #DDD;\n",
              "  }\n",
              "\n",
              "  [theme=dark] .colab-df-quickchart {\n",
              "      --bg-color: #3B4455;\n",
              "      --fill-color: #D2E3FC;\n",
              "      --hover-bg-color: #434B5C;\n",
              "      --hover-fill-color: #FFFFFF;\n",
              "      --disabled-bg-color: #3B4455;\n",
              "      --disabled-fill-color: #666;\n",
              "  }\n",
              "\n",
              "  .colab-df-quickchart {\n",
              "    background-color: var(--bg-color);\n",
              "    border: none;\n",
              "    border-radius: 50%;\n",
              "    cursor: pointer;\n",
              "    display: none;\n",
              "    fill: var(--fill-color);\n",
              "    height: 32px;\n",
              "    padding: 0;\n",
              "    width: 32px;\n",
              "  }\n",
              "\n",
              "  .colab-df-quickchart:hover {\n",
              "    background-color: var(--hover-bg-color);\n",
              "    box-shadow: 0 1px 2px rgba(60, 64, 67, 0.3), 0 1px 3px 1px rgba(60, 64, 67, 0.15);\n",
              "    fill: var(--button-hover-fill-color);\n",
              "  }\n",
              "\n",
              "  .colab-df-quickchart-complete:disabled,\n",
              "  .colab-df-quickchart-complete:disabled:hover {\n",
              "    background-color: var(--disabled-bg-color);\n",
              "    fill: var(--disabled-fill-color);\n",
              "    box-shadow: none;\n",
              "  }\n",
              "\n",
              "  .colab-df-spinner {\n",
              "    border: 2px solid var(--fill-color);\n",
              "    border-color: transparent;\n",
              "    border-bottom-color: var(--fill-color);\n",
              "    animation:\n",
              "      spin 1s steps(1) infinite;\n",
              "  }\n",
              "\n",
              "  @keyframes spin {\n",
              "    0% {\n",
              "      border-color: transparent;\n",
              "      border-bottom-color: var(--fill-color);\n",
              "      border-left-color: var(--fill-color);\n",
              "    }\n",
              "    20% {\n",
              "      border-color: transparent;\n",
              "      border-left-color: var(--fill-color);\n",
              "      border-top-color: var(--fill-color);\n",
              "    }\n",
              "    30% {\n",
              "      border-color: transparent;\n",
              "      border-left-color: var(--fill-color);\n",
              "      border-top-color: var(--fill-color);\n",
              "      border-right-color: var(--fill-color);\n",
              "    }\n",
              "    40% {\n",
              "      border-color: transparent;\n",
              "      border-right-color: var(--fill-color);\n",
              "      border-top-color: var(--fill-color);\n",
              "    }\n",
              "    60% {\n",
              "      border-color: transparent;\n",
              "      border-right-color: var(--fill-color);\n",
              "    }\n",
              "    80% {\n",
              "      border-color: transparent;\n",
              "      border-right-color: var(--fill-color);\n",
              "      border-bottom-color: var(--fill-color);\n",
              "    }\n",
              "    90% {\n",
              "      border-color: transparent;\n",
              "      border-bottom-color: var(--fill-color);\n",
              "    }\n",
              "  }\n",
              "</style>\n",
              "\n",
              "  <script>\n",
              "    async function quickchart(key) {\n",
              "      const quickchartButtonEl =\n",
              "        document.querySelector('#' + key + ' button');\n",
              "      quickchartButtonEl.disabled = true;  // To prevent multiple clicks.\n",
              "      quickchartButtonEl.classList.add('colab-df-spinner');\n",
              "      try {\n",
              "        const charts = await google.colab.kernel.invokeFunction(\n",
              "            'suggestCharts', [key], {});\n",
              "      } catch (error) {\n",
              "        console.error('Error during call to suggestCharts:', error);\n",
              "      }\n",
              "      quickchartButtonEl.classList.remove('colab-df-spinner');\n",
              "      quickchartButtonEl.classList.add('colab-df-quickchart-complete');\n",
              "    }\n",
              "    (() => {\n",
              "      let quickchartButtonEl =\n",
              "        document.querySelector('#df-50114b6f-1f9a-49a2-96b4-ddb6e8e8b003 button');\n",
              "      quickchartButtonEl.style.display =\n",
              "        google.colab.kernel.accessAllowed ? 'block' : 'none';\n",
              "    })();\n",
              "  </script>\n",
              "</div>\n",
              "    </div>\n",
              "  </div>\n"
            ]
          },
          "metadata": {},
          "execution_count": 8
        }
      ],
      "source": [
        "leads_df.describe(include = 'all')"
      ]
    },
    {
      "cell_type": "code",
      "execution_count": 9,
      "metadata": {
        "id": "PGjD-BEN-NOI",
        "outputId": "dc9f4497-7243-44fa-d901-59341e5446b7",
        "colab": {
          "base_uri": "https://localhost:8080/"
        }
      },
      "outputs": [
        {
          "output_type": "execute_result",
          "data": {
            "text/plain": [
              "Index(['ProspectID', 'LeadOrigin', 'LeadSource', 'TotalVisits', 'TotalTime',\n",
              "       'PageViews', 'Specialization', 'Occupation', 'Converted'],\n",
              "      dtype='object')"
            ]
          },
          "metadata": {},
          "execution_count": 9
        }
      ],
      "source": [
        "# column names\n",
        "leads_df.columns"
      ]
    },
    {
      "cell_type": "code",
      "execution_count": 10,
      "metadata": {
        "id": "ZRhXnERf-NOI",
        "outputId": "c0ad1933-f8be-4e3e-d59b-c313c87d8506",
        "colab": {
          "base_uri": "https://localhost:8080/"
        }
      },
      "outputs": [
        {
          "output_type": "execute_result",
          "data": {
            "text/plain": [
              "0                     Select\n",
              "1                        NaN\n",
              "2                        NaN\n",
              "3                        NaN\n",
              "4       Marketing Management\n",
              "                ...         \n",
              "9235                     NaN\n",
              "9236                     NaN\n",
              "9237                     NaN\n",
              "9238                  Select\n",
              "9239              E-commerce\n",
              "Name: Specialization, Length: 9240, dtype: object"
            ]
          },
          "metadata": {},
          "execution_count": 10
        }
      ],
      "source": [
        "# selecting columns\n",
        "leads_df.Specialization"
      ]
    },
    {
      "cell_type": "code",
      "execution_count": 11,
      "metadata": {
        "id": "5CtK9lF9-NOI",
        "outputId": "405c8e0e-c00d-4881-f1be-35e97868abb5",
        "colab": {
          "base_uri": "https://localhost:8080/"
        }
      },
      "outputs": [
        {
          "output_type": "execute_result",
          "data": {
            "text/plain": [
              "0                     Select\n",
              "1                        NaN\n",
              "2                        NaN\n",
              "3                        NaN\n",
              "4       Marketing Management\n",
              "                ...         \n",
              "9235                     NaN\n",
              "9236                     NaN\n",
              "9237                     NaN\n",
              "9238                  Select\n",
              "9239              E-commerce\n",
              "Name: Specialization, Length: 9240, dtype: object"
            ]
          },
          "metadata": {},
          "execution_count": 11
        }
      ],
      "source": [
        "# this also selects a column\n",
        "leads_df['Specialization']"
      ]
    },
    {
      "cell_type": "code",
      "execution_count": 12,
      "metadata": {
        "id": "DRNN3K-K-NOI",
        "outputId": "4a5b9f23-bc67-4be1-b3da-e19cf50e512f",
        "colab": {
          "base_uri": "https://localhost:8080/",
          "height": 424
        }
      },
      "outputs": [
        {
          "output_type": "execute_result",
          "data": {
            "text/plain": [
              "            Specialization  Converted\n",
              "0                   Select          0\n",
              "1                      NaN          0\n",
              "2                      NaN          0\n",
              "3                      NaN          0\n",
              "4     Marketing Management          0\n",
              "...                    ...        ...\n",
              "9235                   NaN          0\n",
              "9236                   NaN          0\n",
              "9237                   NaN          0\n",
              "9238                Select          0\n",
              "9239            E-commerce          1\n",
              "\n",
              "[9240 rows x 2 columns]"
            ],
            "text/html": [
              "\n",
              "  <div id=\"df-abd31e59-7aff-4141-b1c8-02c21f0eaadd\" class=\"colab-df-container\">\n",
              "    <div>\n",
              "<style scoped>\n",
              "    .dataframe tbody tr th:only-of-type {\n",
              "        vertical-align: middle;\n",
              "    }\n",
              "\n",
              "    .dataframe tbody tr th {\n",
              "        vertical-align: top;\n",
              "    }\n",
              "\n",
              "    .dataframe thead th {\n",
              "        text-align: right;\n",
              "    }\n",
              "</style>\n",
              "<table border=\"1\" class=\"dataframe\">\n",
              "  <thead>\n",
              "    <tr style=\"text-align: right;\">\n",
              "      <th></th>\n",
              "      <th>Specialization</th>\n",
              "      <th>Converted</th>\n",
              "    </tr>\n",
              "  </thead>\n",
              "  <tbody>\n",
              "    <tr>\n",
              "      <th>0</th>\n",
              "      <td>Select</td>\n",
              "      <td>0</td>\n",
              "    </tr>\n",
              "    <tr>\n",
              "      <th>1</th>\n",
              "      <td>NaN</td>\n",
              "      <td>0</td>\n",
              "    </tr>\n",
              "    <tr>\n",
              "      <th>2</th>\n",
              "      <td>NaN</td>\n",
              "      <td>0</td>\n",
              "    </tr>\n",
              "    <tr>\n",
              "      <th>3</th>\n",
              "      <td>NaN</td>\n",
              "      <td>0</td>\n",
              "    </tr>\n",
              "    <tr>\n",
              "      <th>4</th>\n",
              "      <td>Marketing Management</td>\n",
              "      <td>0</td>\n",
              "    </tr>\n",
              "    <tr>\n",
              "      <th>...</th>\n",
              "      <td>...</td>\n",
              "      <td>...</td>\n",
              "    </tr>\n",
              "    <tr>\n",
              "      <th>9235</th>\n",
              "      <td>NaN</td>\n",
              "      <td>0</td>\n",
              "    </tr>\n",
              "    <tr>\n",
              "      <th>9236</th>\n",
              "      <td>NaN</td>\n",
              "      <td>0</td>\n",
              "    </tr>\n",
              "    <tr>\n",
              "      <th>9237</th>\n",
              "      <td>NaN</td>\n",
              "      <td>0</td>\n",
              "    </tr>\n",
              "    <tr>\n",
              "      <th>9238</th>\n",
              "      <td>Select</td>\n",
              "      <td>0</td>\n",
              "    </tr>\n",
              "    <tr>\n",
              "      <th>9239</th>\n",
              "      <td>E-commerce</td>\n",
              "      <td>1</td>\n",
              "    </tr>\n",
              "  </tbody>\n",
              "</table>\n",
              "<p>9240 rows × 2 columns</p>\n",
              "</div>\n",
              "    <div class=\"colab-df-buttons\">\n",
              "\n",
              "  <div class=\"colab-df-container\">\n",
              "    <button class=\"colab-df-convert\" onclick=\"convertToInteractive('df-abd31e59-7aff-4141-b1c8-02c21f0eaadd')\"\n",
              "            title=\"Convert this dataframe to an interactive table.\"\n",
              "            style=\"display:none;\">\n",
              "\n",
              "  <svg xmlns=\"http://www.w3.org/2000/svg\" height=\"24px\" viewBox=\"0 -960 960 960\">\n",
              "    <path d=\"M120-120v-720h720v720H120Zm60-500h600v-160H180v160Zm220 220h160v-160H400v160Zm0 220h160v-160H400v160ZM180-400h160v-160H180v160Zm440 0h160v-160H620v160ZM180-180h160v-160H180v160Zm440 0h160v-160H620v160Z\"/>\n",
              "  </svg>\n",
              "    </button>\n",
              "\n",
              "  <style>\n",
              "    .colab-df-container {\n",
              "      display:flex;\n",
              "      gap: 12px;\n",
              "    }\n",
              "\n",
              "    .colab-df-convert {\n",
              "      background-color: #E8F0FE;\n",
              "      border: none;\n",
              "      border-radius: 50%;\n",
              "      cursor: pointer;\n",
              "      display: none;\n",
              "      fill: #1967D2;\n",
              "      height: 32px;\n",
              "      padding: 0 0 0 0;\n",
              "      width: 32px;\n",
              "    }\n",
              "\n",
              "    .colab-df-convert:hover {\n",
              "      background-color: #E2EBFA;\n",
              "      box-shadow: 0px 1px 2px rgba(60, 64, 67, 0.3), 0px 1px 3px 1px rgba(60, 64, 67, 0.15);\n",
              "      fill: #174EA6;\n",
              "    }\n",
              "\n",
              "    .colab-df-buttons div {\n",
              "      margin-bottom: 4px;\n",
              "    }\n",
              "\n",
              "    [theme=dark] .colab-df-convert {\n",
              "      background-color: #3B4455;\n",
              "      fill: #D2E3FC;\n",
              "    }\n",
              "\n",
              "    [theme=dark] .colab-df-convert:hover {\n",
              "      background-color: #434B5C;\n",
              "      box-shadow: 0px 1px 3px 1px rgba(0, 0, 0, 0.15);\n",
              "      filter: drop-shadow(0px 1px 2px rgba(0, 0, 0, 0.3));\n",
              "      fill: #FFFFFF;\n",
              "    }\n",
              "  </style>\n",
              "\n",
              "    <script>\n",
              "      const buttonEl =\n",
              "        document.querySelector('#df-abd31e59-7aff-4141-b1c8-02c21f0eaadd button.colab-df-convert');\n",
              "      buttonEl.style.display =\n",
              "        google.colab.kernel.accessAllowed ? 'block' : 'none';\n",
              "\n",
              "      async function convertToInteractive(key) {\n",
              "        const element = document.querySelector('#df-abd31e59-7aff-4141-b1c8-02c21f0eaadd');\n",
              "        const dataTable =\n",
              "          await google.colab.kernel.invokeFunction('convertToInteractive',\n",
              "                                                    [key], {});\n",
              "        if (!dataTable) return;\n",
              "\n",
              "        const docLinkHtml = 'Like what you see? Visit the ' +\n",
              "          '<a target=\"_blank\" href=https://colab.research.google.com/notebooks/data_table.ipynb>data table notebook</a>'\n",
              "          + ' to learn more about interactive tables.';\n",
              "        element.innerHTML = '';\n",
              "        dataTable['output_type'] = 'display_data';\n",
              "        await google.colab.output.renderOutput(dataTable, element);\n",
              "        const docLink = document.createElement('div');\n",
              "        docLink.innerHTML = docLinkHtml;\n",
              "        element.appendChild(docLink);\n",
              "      }\n",
              "    </script>\n",
              "  </div>\n",
              "\n",
              "\n",
              "<div id=\"df-8a7ee8ef-3f21-401e-a990-983833cc18da\">\n",
              "  <button class=\"colab-df-quickchart\" onclick=\"quickchart('df-8a7ee8ef-3f21-401e-a990-983833cc18da')\"\n",
              "            title=\"Suggest charts.\"\n",
              "            style=\"display:none;\">\n",
              "\n",
              "<svg xmlns=\"http://www.w3.org/2000/svg\" height=\"24px\"viewBox=\"0 0 24 24\"\n",
              "     width=\"24px\">\n",
              "    <g>\n",
              "        <path d=\"M19 3H5c-1.1 0-2 .9-2 2v14c0 1.1.9 2 2 2h14c1.1 0 2-.9 2-2V5c0-1.1-.9-2-2-2zM9 17H7v-7h2v7zm4 0h-2V7h2v10zm4 0h-2v-4h2v4z\"/>\n",
              "    </g>\n",
              "</svg>\n",
              "  </button>\n",
              "\n",
              "<style>\n",
              "  .colab-df-quickchart {\n",
              "      --bg-color: #E8F0FE;\n",
              "      --fill-color: #1967D2;\n",
              "      --hover-bg-color: #E2EBFA;\n",
              "      --hover-fill-color: #174EA6;\n",
              "      --disabled-fill-color: #AAA;\n",
              "      --disabled-bg-color: #DDD;\n",
              "  }\n",
              "\n",
              "  [theme=dark] .colab-df-quickchart {\n",
              "      --bg-color: #3B4455;\n",
              "      --fill-color: #D2E3FC;\n",
              "      --hover-bg-color: #434B5C;\n",
              "      --hover-fill-color: #FFFFFF;\n",
              "      --disabled-bg-color: #3B4455;\n",
              "      --disabled-fill-color: #666;\n",
              "  }\n",
              "\n",
              "  .colab-df-quickchart {\n",
              "    background-color: var(--bg-color);\n",
              "    border: none;\n",
              "    border-radius: 50%;\n",
              "    cursor: pointer;\n",
              "    display: none;\n",
              "    fill: var(--fill-color);\n",
              "    height: 32px;\n",
              "    padding: 0;\n",
              "    width: 32px;\n",
              "  }\n",
              "\n",
              "  .colab-df-quickchart:hover {\n",
              "    background-color: var(--hover-bg-color);\n",
              "    box-shadow: 0 1px 2px rgba(60, 64, 67, 0.3), 0 1px 3px 1px rgba(60, 64, 67, 0.15);\n",
              "    fill: var(--button-hover-fill-color);\n",
              "  }\n",
              "\n",
              "  .colab-df-quickchart-complete:disabled,\n",
              "  .colab-df-quickchart-complete:disabled:hover {\n",
              "    background-color: var(--disabled-bg-color);\n",
              "    fill: var(--disabled-fill-color);\n",
              "    box-shadow: none;\n",
              "  }\n",
              "\n",
              "  .colab-df-spinner {\n",
              "    border: 2px solid var(--fill-color);\n",
              "    border-color: transparent;\n",
              "    border-bottom-color: var(--fill-color);\n",
              "    animation:\n",
              "      spin 1s steps(1) infinite;\n",
              "  }\n",
              "\n",
              "  @keyframes spin {\n",
              "    0% {\n",
              "      border-color: transparent;\n",
              "      border-bottom-color: var(--fill-color);\n",
              "      border-left-color: var(--fill-color);\n",
              "    }\n",
              "    20% {\n",
              "      border-color: transparent;\n",
              "      border-left-color: var(--fill-color);\n",
              "      border-top-color: var(--fill-color);\n",
              "    }\n",
              "    30% {\n",
              "      border-color: transparent;\n",
              "      border-left-color: var(--fill-color);\n",
              "      border-top-color: var(--fill-color);\n",
              "      border-right-color: var(--fill-color);\n",
              "    }\n",
              "    40% {\n",
              "      border-color: transparent;\n",
              "      border-right-color: var(--fill-color);\n",
              "      border-top-color: var(--fill-color);\n",
              "    }\n",
              "    60% {\n",
              "      border-color: transparent;\n",
              "      border-right-color: var(--fill-color);\n",
              "    }\n",
              "    80% {\n",
              "      border-color: transparent;\n",
              "      border-right-color: var(--fill-color);\n",
              "      border-bottom-color: var(--fill-color);\n",
              "    }\n",
              "    90% {\n",
              "      border-color: transparent;\n",
              "      border-bottom-color: var(--fill-color);\n",
              "    }\n",
              "  }\n",
              "</style>\n",
              "\n",
              "  <script>\n",
              "    async function quickchart(key) {\n",
              "      const quickchartButtonEl =\n",
              "        document.querySelector('#' + key + ' button');\n",
              "      quickchartButtonEl.disabled = true;  // To prevent multiple clicks.\n",
              "      quickchartButtonEl.classList.add('colab-df-spinner');\n",
              "      try {\n",
              "        const charts = await google.colab.kernel.invokeFunction(\n",
              "            'suggestCharts', [key], {});\n",
              "      } catch (error) {\n",
              "        console.error('Error during call to suggestCharts:', error);\n",
              "      }\n",
              "      quickchartButtonEl.classList.remove('colab-df-spinner');\n",
              "      quickchartButtonEl.classList.add('colab-df-quickchart-complete');\n",
              "    }\n",
              "    (() => {\n",
              "      let quickchartButtonEl =\n",
              "        document.querySelector('#df-8a7ee8ef-3f21-401e-a990-983833cc18da button');\n",
              "      quickchartButtonEl.style.display =\n",
              "        google.colab.kernel.accessAllowed ? 'block' : 'none';\n",
              "    })();\n",
              "  </script>\n",
              "</div>\n",
              "    </div>\n",
              "  </div>\n"
            ]
          },
          "metadata": {},
          "execution_count": 12
        }
      ],
      "source": [
        "# We can also subset a dataframe to specific columns\n",
        "leads_df[['Specialization', 'Converted']]"
      ]
    },
    {
      "cell_type": "code",
      "execution_count": null,
      "metadata": {
        "id": "4PO_EorP-NOI"
      },
      "outputs": [],
      "source": [
        "# We can apply functions over columns. Try sum() on the Converted column"
      ]
    },
    {
      "cell_type": "code",
      "execution_count": null,
      "metadata": {
        "id": "HNr61T8W-NOJ"
      },
      "outputs": [],
      "source": [
        "# We can do multiple functions in one command\n",
        "# let’s use the converted column, sum and shape functions to check existing conversion rate in data set"
      ]
    },
    {
      "cell_type": "code",
      "execution_count": 13,
      "metadata": {
        "id": "_6DToSVY-NOJ",
        "outputId": "e6642a1e-ba0a-4f41-80ee-7c48b84501c8",
        "colab": {
          "base_uri": "https://localhost:8080/"
        }
      },
      "outputs": [
        {
          "output_type": "execute_result",
          "data": {
            "text/plain": [
              "0       False\n",
              "1       False\n",
              "2       False\n",
              "3       False\n",
              "4       False\n",
              "        ...  \n",
              "9235    False\n",
              "9236    False\n",
              "9237    False\n",
              "9238    False\n",
              "9239    False\n",
              "Length: 9240, dtype: bool"
            ]
          },
          "metadata": {},
          "execution_count": 13
        }
      ],
      "source": [
        "# Let's use the sum and duplicated functions to do a very important step - check duplicates\n",
        "leads_df.duplicated()"
      ]
    },
    {
      "cell_type": "code",
      "execution_count": null,
      "metadata": {
        "id": "Tlphoysp-NOJ"
      },
      "outputs": [],
      "source": [
        "# use sum() and dumplicated to get the count of duplicated columns"
      ]
    },
    {
      "cell_type": "code",
      "execution_count": 14,
      "metadata": {
        "id": "K_vxe58B-NOJ",
        "outputId": "f63a9f74-b227-4271-cd9e-91239544032c",
        "colab": {
          "base_uri": "https://localhost:8080/",
          "height": 424
        }
      },
      "outputs": [
        {
          "output_type": "execute_result",
          "data": {
            "text/plain": [
              "      ProspectID  LeadOrigin  LeadSource  TotalVisits  TotalTime  PageViews  \\\n",
              "0          False       False       False        False      False      False   \n",
              "1          False       False       False        False      False      False   \n",
              "2          False       False       False        False      False      False   \n",
              "3          False       False       False        False      False      False   \n",
              "4          False       False       False        False      False      False   \n",
              "...          ...         ...         ...          ...        ...        ...   \n",
              "9235       False       False       False        False      False      False   \n",
              "9236       False       False       False        False      False      False   \n",
              "9237       False       False       False        False      False      False   \n",
              "9238       False       False       False        False      False      False   \n",
              "9239       False       False       False        False      False      False   \n",
              "\n",
              "      Specialization  Occupation  Converted  \n",
              "0              False       False      False  \n",
              "1               True       False      False  \n",
              "2               True       False      False  \n",
              "3               True       False      False  \n",
              "4              False       False      False  \n",
              "...              ...         ...        ...  \n",
              "9235            True       False      False  \n",
              "9236            True       False      False  \n",
              "9237            True       False      False  \n",
              "9238           False       False      False  \n",
              "9239           False       False      False  \n",
              "\n",
              "[9240 rows x 9 columns]"
            ],
            "text/html": [
              "\n",
              "  <div id=\"df-4bf36bd0-fd94-4323-ac10-3427680d911b\" class=\"colab-df-container\">\n",
              "    <div>\n",
              "<style scoped>\n",
              "    .dataframe tbody tr th:only-of-type {\n",
              "        vertical-align: middle;\n",
              "    }\n",
              "\n",
              "    .dataframe tbody tr th {\n",
              "        vertical-align: top;\n",
              "    }\n",
              "\n",
              "    .dataframe thead th {\n",
              "        text-align: right;\n",
              "    }\n",
              "</style>\n",
              "<table border=\"1\" class=\"dataframe\">\n",
              "  <thead>\n",
              "    <tr style=\"text-align: right;\">\n",
              "      <th></th>\n",
              "      <th>ProspectID</th>\n",
              "      <th>LeadOrigin</th>\n",
              "      <th>LeadSource</th>\n",
              "      <th>TotalVisits</th>\n",
              "      <th>TotalTime</th>\n",
              "      <th>PageViews</th>\n",
              "      <th>Specialization</th>\n",
              "      <th>Occupation</th>\n",
              "      <th>Converted</th>\n",
              "    </tr>\n",
              "  </thead>\n",
              "  <tbody>\n",
              "    <tr>\n",
              "      <th>0</th>\n",
              "      <td>False</td>\n",
              "      <td>False</td>\n",
              "      <td>False</td>\n",
              "      <td>False</td>\n",
              "      <td>False</td>\n",
              "      <td>False</td>\n",
              "      <td>False</td>\n",
              "      <td>False</td>\n",
              "      <td>False</td>\n",
              "    </tr>\n",
              "    <tr>\n",
              "      <th>1</th>\n",
              "      <td>False</td>\n",
              "      <td>False</td>\n",
              "      <td>False</td>\n",
              "      <td>False</td>\n",
              "      <td>False</td>\n",
              "      <td>False</td>\n",
              "      <td>True</td>\n",
              "      <td>False</td>\n",
              "      <td>False</td>\n",
              "    </tr>\n",
              "    <tr>\n",
              "      <th>2</th>\n",
              "      <td>False</td>\n",
              "      <td>False</td>\n",
              "      <td>False</td>\n",
              "      <td>False</td>\n",
              "      <td>False</td>\n",
              "      <td>False</td>\n",
              "      <td>True</td>\n",
              "      <td>False</td>\n",
              "      <td>False</td>\n",
              "    </tr>\n",
              "    <tr>\n",
              "      <th>3</th>\n",
              "      <td>False</td>\n",
              "      <td>False</td>\n",
              "      <td>False</td>\n",
              "      <td>False</td>\n",
              "      <td>False</td>\n",
              "      <td>False</td>\n",
              "      <td>True</td>\n",
              "      <td>False</td>\n",
              "      <td>False</td>\n",
              "    </tr>\n",
              "    <tr>\n",
              "      <th>4</th>\n",
              "      <td>False</td>\n",
              "      <td>False</td>\n",
              "      <td>False</td>\n",
              "      <td>False</td>\n",
              "      <td>False</td>\n",
              "      <td>False</td>\n",
              "      <td>False</td>\n",
              "      <td>False</td>\n",
              "      <td>False</td>\n",
              "    </tr>\n",
              "    <tr>\n",
              "      <th>...</th>\n",
              "      <td>...</td>\n",
              "      <td>...</td>\n",
              "      <td>...</td>\n",
              "      <td>...</td>\n",
              "      <td>...</td>\n",
              "      <td>...</td>\n",
              "      <td>...</td>\n",
              "      <td>...</td>\n",
              "      <td>...</td>\n",
              "    </tr>\n",
              "    <tr>\n",
              "      <th>9235</th>\n",
              "      <td>False</td>\n",
              "      <td>False</td>\n",
              "      <td>False</td>\n",
              "      <td>False</td>\n",
              "      <td>False</td>\n",
              "      <td>False</td>\n",
              "      <td>True</td>\n",
              "      <td>False</td>\n",
              "      <td>False</td>\n",
              "    </tr>\n",
              "    <tr>\n",
              "      <th>9236</th>\n",
              "      <td>False</td>\n",
              "      <td>False</td>\n",
              "      <td>False</td>\n",
              "      <td>False</td>\n",
              "      <td>False</td>\n",
              "      <td>False</td>\n",
              "      <td>True</td>\n",
              "      <td>False</td>\n",
              "      <td>False</td>\n",
              "    </tr>\n",
              "    <tr>\n",
              "      <th>9237</th>\n",
              "      <td>False</td>\n",
              "      <td>False</td>\n",
              "      <td>False</td>\n",
              "      <td>False</td>\n",
              "      <td>False</td>\n",
              "      <td>False</td>\n",
              "      <td>True</td>\n",
              "      <td>False</td>\n",
              "      <td>False</td>\n",
              "    </tr>\n",
              "    <tr>\n",
              "      <th>9238</th>\n",
              "      <td>False</td>\n",
              "      <td>False</td>\n",
              "      <td>False</td>\n",
              "      <td>False</td>\n",
              "      <td>False</td>\n",
              "      <td>False</td>\n",
              "      <td>False</td>\n",
              "      <td>False</td>\n",
              "      <td>False</td>\n",
              "    </tr>\n",
              "    <tr>\n",
              "      <th>9239</th>\n",
              "      <td>False</td>\n",
              "      <td>False</td>\n",
              "      <td>False</td>\n",
              "      <td>False</td>\n",
              "      <td>False</td>\n",
              "      <td>False</td>\n",
              "      <td>False</td>\n",
              "      <td>False</td>\n",
              "      <td>False</td>\n",
              "    </tr>\n",
              "  </tbody>\n",
              "</table>\n",
              "<p>9240 rows × 9 columns</p>\n",
              "</div>\n",
              "    <div class=\"colab-df-buttons\">\n",
              "\n",
              "  <div class=\"colab-df-container\">\n",
              "    <button class=\"colab-df-convert\" onclick=\"convertToInteractive('df-4bf36bd0-fd94-4323-ac10-3427680d911b')\"\n",
              "            title=\"Convert this dataframe to an interactive table.\"\n",
              "            style=\"display:none;\">\n",
              "\n",
              "  <svg xmlns=\"http://www.w3.org/2000/svg\" height=\"24px\" viewBox=\"0 -960 960 960\">\n",
              "    <path d=\"M120-120v-720h720v720H120Zm60-500h600v-160H180v160Zm220 220h160v-160H400v160Zm0 220h160v-160H400v160ZM180-400h160v-160H180v160Zm440 0h160v-160H620v160ZM180-180h160v-160H180v160Zm440 0h160v-160H620v160Z\"/>\n",
              "  </svg>\n",
              "    </button>\n",
              "\n",
              "  <style>\n",
              "    .colab-df-container {\n",
              "      display:flex;\n",
              "      gap: 12px;\n",
              "    }\n",
              "\n",
              "    .colab-df-convert {\n",
              "      background-color: #E8F0FE;\n",
              "      border: none;\n",
              "      border-radius: 50%;\n",
              "      cursor: pointer;\n",
              "      display: none;\n",
              "      fill: #1967D2;\n",
              "      height: 32px;\n",
              "      padding: 0 0 0 0;\n",
              "      width: 32px;\n",
              "    }\n",
              "\n",
              "    .colab-df-convert:hover {\n",
              "      background-color: #E2EBFA;\n",
              "      box-shadow: 0px 1px 2px rgba(60, 64, 67, 0.3), 0px 1px 3px 1px rgba(60, 64, 67, 0.15);\n",
              "      fill: #174EA6;\n",
              "    }\n",
              "\n",
              "    .colab-df-buttons div {\n",
              "      margin-bottom: 4px;\n",
              "    }\n",
              "\n",
              "    [theme=dark] .colab-df-convert {\n",
              "      background-color: #3B4455;\n",
              "      fill: #D2E3FC;\n",
              "    }\n",
              "\n",
              "    [theme=dark] .colab-df-convert:hover {\n",
              "      background-color: #434B5C;\n",
              "      box-shadow: 0px 1px 3px 1px rgba(0, 0, 0, 0.15);\n",
              "      filter: drop-shadow(0px 1px 2px rgba(0, 0, 0, 0.3));\n",
              "      fill: #FFFFFF;\n",
              "    }\n",
              "  </style>\n",
              "\n",
              "    <script>\n",
              "      const buttonEl =\n",
              "        document.querySelector('#df-4bf36bd0-fd94-4323-ac10-3427680d911b button.colab-df-convert');\n",
              "      buttonEl.style.display =\n",
              "        google.colab.kernel.accessAllowed ? 'block' : 'none';\n",
              "\n",
              "      async function convertToInteractive(key) {\n",
              "        const element = document.querySelector('#df-4bf36bd0-fd94-4323-ac10-3427680d911b');\n",
              "        const dataTable =\n",
              "          await google.colab.kernel.invokeFunction('convertToInteractive',\n",
              "                                                    [key], {});\n",
              "        if (!dataTable) return;\n",
              "\n",
              "        const docLinkHtml = 'Like what you see? Visit the ' +\n",
              "          '<a target=\"_blank\" href=https://colab.research.google.com/notebooks/data_table.ipynb>data table notebook</a>'\n",
              "          + ' to learn more about interactive tables.';\n",
              "        element.innerHTML = '';\n",
              "        dataTable['output_type'] = 'display_data';\n",
              "        await google.colab.output.renderOutput(dataTable, element);\n",
              "        const docLink = document.createElement('div');\n",
              "        docLink.innerHTML = docLinkHtml;\n",
              "        element.appendChild(docLink);\n",
              "      }\n",
              "    </script>\n",
              "  </div>\n",
              "\n",
              "\n",
              "<div id=\"df-9b96d8de-79a5-4264-b6a3-5c95bba7dd84\">\n",
              "  <button class=\"colab-df-quickchart\" onclick=\"quickchart('df-9b96d8de-79a5-4264-b6a3-5c95bba7dd84')\"\n",
              "            title=\"Suggest charts.\"\n",
              "            style=\"display:none;\">\n",
              "\n",
              "<svg xmlns=\"http://www.w3.org/2000/svg\" height=\"24px\"viewBox=\"0 0 24 24\"\n",
              "     width=\"24px\">\n",
              "    <g>\n",
              "        <path d=\"M19 3H5c-1.1 0-2 .9-2 2v14c0 1.1.9 2 2 2h14c1.1 0 2-.9 2-2V5c0-1.1-.9-2-2-2zM9 17H7v-7h2v7zm4 0h-2V7h2v10zm4 0h-2v-4h2v4z\"/>\n",
              "    </g>\n",
              "</svg>\n",
              "  </button>\n",
              "\n",
              "<style>\n",
              "  .colab-df-quickchart {\n",
              "      --bg-color: #E8F0FE;\n",
              "      --fill-color: #1967D2;\n",
              "      --hover-bg-color: #E2EBFA;\n",
              "      --hover-fill-color: #174EA6;\n",
              "      --disabled-fill-color: #AAA;\n",
              "      --disabled-bg-color: #DDD;\n",
              "  }\n",
              "\n",
              "  [theme=dark] .colab-df-quickchart {\n",
              "      --bg-color: #3B4455;\n",
              "      --fill-color: #D2E3FC;\n",
              "      --hover-bg-color: #434B5C;\n",
              "      --hover-fill-color: #FFFFFF;\n",
              "      --disabled-bg-color: #3B4455;\n",
              "      --disabled-fill-color: #666;\n",
              "  }\n",
              "\n",
              "  .colab-df-quickchart {\n",
              "    background-color: var(--bg-color);\n",
              "    border: none;\n",
              "    border-radius: 50%;\n",
              "    cursor: pointer;\n",
              "    display: none;\n",
              "    fill: var(--fill-color);\n",
              "    height: 32px;\n",
              "    padding: 0;\n",
              "    width: 32px;\n",
              "  }\n",
              "\n",
              "  .colab-df-quickchart:hover {\n",
              "    background-color: var(--hover-bg-color);\n",
              "    box-shadow: 0 1px 2px rgba(60, 64, 67, 0.3), 0 1px 3px 1px rgba(60, 64, 67, 0.15);\n",
              "    fill: var(--button-hover-fill-color);\n",
              "  }\n",
              "\n",
              "  .colab-df-quickchart-complete:disabled,\n",
              "  .colab-df-quickchart-complete:disabled:hover {\n",
              "    background-color: var(--disabled-bg-color);\n",
              "    fill: var(--disabled-fill-color);\n",
              "    box-shadow: none;\n",
              "  }\n",
              "\n",
              "  .colab-df-spinner {\n",
              "    border: 2px solid var(--fill-color);\n",
              "    border-color: transparent;\n",
              "    border-bottom-color: var(--fill-color);\n",
              "    animation:\n",
              "      spin 1s steps(1) infinite;\n",
              "  }\n",
              "\n",
              "  @keyframes spin {\n",
              "    0% {\n",
              "      border-color: transparent;\n",
              "      border-bottom-color: var(--fill-color);\n",
              "      border-left-color: var(--fill-color);\n",
              "    }\n",
              "    20% {\n",
              "      border-color: transparent;\n",
              "      border-left-color: var(--fill-color);\n",
              "      border-top-color: var(--fill-color);\n",
              "    }\n",
              "    30% {\n",
              "      border-color: transparent;\n",
              "      border-left-color: var(--fill-color);\n",
              "      border-top-color: var(--fill-color);\n",
              "      border-right-color: var(--fill-color);\n",
              "    }\n",
              "    40% {\n",
              "      border-color: transparent;\n",
              "      border-right-color: var(--fill-color);\n",
              "      border-top-color: var(--fill-color);\n",
              "    }\n",
              "    60% {\n",
              "      border-color: transparent;\n",
              "      border-right-color: var(--fill-color);\n",
              "    }\n",
              "    80% {\n",
              "      border-color: transparent;\n",
              "      border-right-color: var(--fill-color);\n",
              "      border-bottom-color: var(--fill-color);\n",
              "    }\n",
              "    90% {\n",
              "      border-color: transparent;\n",
              "      border-bottom-color: var(--fill-color);\n",
              "    }\n",
              "  }\n",
              "</style>\n",
              "\n",
              "  <script>\n",
              "    async function quickchart(key) {\n",
              "      const quickchartButtonEl =\n",
              "        document.querySelector('#' + key + ' button');\n",
              "      quickchartButtonEl.disabled = true;  // To prevent multiple clicks.\n",
              "      quickchartButtonEl.classList.add('colab-df-spinner');\n",
              "      try {\n",
              "        const charts = await google.colab.kernel.invokeFunction(\n",
              "            'suggestCharts', [key], {});\n",
              "      } catch (error) {\n",
              "        console.error('Error during call to suggestCharts:', error);\n",
              "      }\n",
              "      quickchartButtonEl.classList.remove('colab-df-spinner');\n",
              "      quickchartButtonEl.classList.add('colab-df-quickchart-complete');\n",
              "    }\n",
              "    (() => {\n",
              "      let quickchartButtonEl =\n",
              "        document.querySelector('#df-9b96d8de-79a5-4264-b6a3-5c95bba7dd84 button');\n",
              "      quickchartButtonEl.style.display =\n",
              "        google.colab.kernel.accessAllowed ? 'block' : 'none';\n",
              "    })();\n",
              "  </script>\n",
              "</div>\n",
              "    </div>\n",
              "  </div>\n"
            ]
          },
          "metadata": {},
          "execution_count": 14
        }
      ],
      "source": [
        "# look at null/missing values\n",
        "leads_df.isnull()"
      ]
    },
    {
      "cell_type": "code",
      "execution_count": null,
      "metadata": {
        "id": "0Ck5ZvnX-NOJ"
      },
      "outputs": [],
      "source": [
        "# use sum() and isnull() to get count of null values accross the columns"
      ]
    },
    {
      "cell_type": "code",
      "execution_count": null,
      "metadata": {
        "id": "zar5vYIj-NOJ"
      },
      "outputs": [],
      "source": [
        "# Use value counts to look at the levels and counts of categories\n",
        "leads_df.Specialization.value_counts(dropna=False)"
      ]
    },
    {
      "cell_type": "code",
      "execution_count": null,
      "metadata": {
        "id": "zVuJaOqw-NOK"
      },
      "outputs": [],
      "source": [
        "# Try with another column"
      ]
    },
    {
      "cell_type": "markdown",
      "metadata": {
        "id": "Mrfdc99I-NOK"
      },
      "source": [
        "## Part 4: Data Cleaning\n",
        "\n",
        "In the real world we often have imperfect or missing data that we need to 'clean' to get ready for data analysis.\n",
        "\n",
        "Using what we learnt above about the data, we will now apply some changes to the dataframe to fill in any gaps:"
      ]
    },
    {
      "cell_type": "code",
      "execution_count": 15,
      "metadata": {
        "id": "1DjA34lv-NOK"
      },
      "outputs": [],
      "source": [
        "# There are \"select\" values in columns, that doesn't make any sense for specialization (I know it's a Z not an S its American)\n",
        "# This is because customer did not select any option from the list and the form was built badly, hence it shows select.\n",
        "\n",
        "# Change 'Select' values to NaN.\n",
        "leads_df = leads_df.replace('Select', np.nan)"
      ]
    },
    {
      "cell_type": "code",
      "execution_count": 16,
      "metadata": {
        "id": "rnsVNSM5-NOK",
        "outputId": "bf4c71f5-6266-4f53-8d90-48d269a8a9ea",
        "colab": {
          "base_uri": "https://localhost:8080/"
        }
      },
      "outputs": [
        {
          "output_type": "execute_result",
          "data": {
            "text/plain": [
              "NaN                                  3380\n",
              "Finance Management                    976\n",
              "Human Resource Management             848\n",
              "Marketing Management                  838\n",
              "Operations Management                 503\n",
              "Business Administration               403\n",
              "IT Projects Management                366\n",
              "Supply Chain Management               349\n",
              "Banking, Investment And Insurance     338\n",
              "Travel and Tourism                    203\n",
              "Media and Advertising                 203\n",
              "Legal Services                        178\n",
              "E-commerce                            169\n",
              "Healthcare Management                 159\n",
              "Retail Management                     140\n",
              "Hospitality Management                114\n",
              "Rural and Agribusiness                 73\n",
              "Name: Specialization, dtype: int64"
            ]
          },
          "metadata": {},
          "execution_count": 16
        }
      ],
      "source": [
        "# lets look at the specialization column again\n",
        "leads_df['Specialization'].value_counts(dropna=False)"
      ]
    },
    {
      "cell_type": "code",
      "execution_count": 17,
      "metadata": {
        "id": "RX5PfRFu-NOK"
      },
      "outputs": [],
      "source": [
        "# It maybe the case that the lead has not entered any specialization if their option is not availabe on the list\n",
        "# We can make a category \"Others\" for missing values.\n",
        "leads_df['Specialization'] = leads_df['Specialization'].replace(np.nan, 'Other')"
      ]
    },
    {
      "cell_type": "code",
      "execution_count": 18,
      "metadata": {
        "id": "PWtblm2d-NOK",
        "outputId": "e55d2d68-c977-430e-c57b-9fa8cb3d2dd9",
        "colab": {
          "base_uri": "https://localhost:8080/"
        }
      },
      "outputs": [
        {
          "output_type": "execute_result",
          "data": {
            "text/plain": [
              "Other                                3380\n",
              "Finance Management                    976\n",
              "Human Resource Management             848\n",
              "Marketing Management                  838\n",
              "Operations Management                 503\n",
              "Business Administration               403\n",
              "IT Projects Management                366\n",
              "Supply Chain Management               349\n",
              "Banking, Investment And Insurance     338\n",
              "Travel and Tourism                    203\n",
              "Media and Advertising                 203\n",
              "Legal Services                        178\n",
              "E-commerce                            169\n",
              "Healthcare Management                 159\n",
              "Retail Management                     140\n",
              "Hospitality Management                114\n",
              "Rural and Agribusiness                 73\n",
              "Name: Specialization, dtype: int64"
            ]
          },
          "metadata": {},
          "execution_count": 18
        }
      ],
      "source": [
        "# lets look at the specialization column again\n",
        "leads_df['Specialization'].value_counts(dropna=False)"
      ]
    },
    {
      "cell_type": "markdown",
      "metadata": {
        "id": "lTeoriKW-NOK"
      },
      "source": [
        "## Part 5: Data Exploration\n",
        "\n",
        "Each row in our data is a single observation made up of a values in each column.\n",
        "\n",
        "Now we have cleaned the data we can start exploring each of the columns we have as **variables** in the dataset:\n",
        "\n",
        "- `Prospect ID` is the identifier variable for the data across each row\n",
        "\n",
        "- `converted`  is our **target** variable (also known as the response variable) i.e. the variable that we are interested in predicting.\n",
        "\n",
        "    - It is binary and the event either happens or it doesn't i.e. 0 or 1\n",
        "\n",
        "- We have a mix of 7 categorical and continuous variables we can as **predictor** variables (also called explanatory variable, feature, input variable or independent variable)\n",
        "\n",
        "We can explore the data to see if there are any correlations between the target and predictor variables.\n",
        "\n",
        "First for our categorical variables let's look at side by side bar plots:"
      ]
    },
    {
      "cell_type": "code",
      "execution_count": 19,
      "metadata": {
        "id": "ER0r8nzE-NOP",
        "outputId": "d9210f86-7db3-4c47-bb64-fd79eb1f36dc",
        "colab": {
          "base_uri": "https://localhost:8080/",
          "height": 909
        }
      },
      "outputs": [
        {
          "output_type": "execute_result",
          "data": {
            "text/plain": [
              "(array([0, 1, 2, 3]),\n",
              " [Text(0, 0, 'API'),\n",
              "  Text(1, 0, 'Landing Page Submission'),\n",
              "  Text(2, 0, 'Lead Add Form'),\n",
              "  Text(3, 0, 'Lead Import')])"
            ]
          },
          "metadata": {},
          "execution_count": 19
        },
        {
          "output_type": "display_data",
          "data": {
            "text/plain": [
              "<Figure size 1500x750 with 1 Axes>"
            ],
            "image/png": "[encoded data removed]"
          },
          "metadata": {}
        }
      ],
      "source": [
        "# lead Origin\n",
        "fig, axs = plt.subplots(figsize = (15,7.5))\n",
        "sns.countplot(x = \"LeadOrigin\", hue = \"Converted\", data = leads_df)\n",
        "xticks(rotation = 90)"
      ]
    },
    {
      "cell_type": "code",
      "execution_count": 20,
      "metadata": {
        "id": "aQ34K2Hf-NOP"
      },
      "outputs": [],
      "source": [
        "# lead source"
      ]
    },
    {
      "cell_type": "code",
      "execution_count": 21,
      "metadata": {
        "id": "pcks4RV--NOP"
      },
      "outputs": [],
      "source": [
        "# Specialization"
      ]
    },
    {
      "cell_type": "code",
      "execution_count": 22,
      "metadata": {
        "id": "sZ43yEWF-NOP"
      },
      "outputs": [],
      "source": [
        "# Occupation"
      ]
    },
    {
      "cell_type": "markdown",
      "metadata": {
        "id": "DIfb2RJx-NOQ"
      },
      "source": [
        "For our continuous variables we can look at box plots"
      ]
    },
    {
      "cell_type": "code",
      "execution_count": 23,
      "metadata": {
        "id": "hgNtsCKc-NOQ",
        "outputId": "7c2e78fd-1e19-417e-a367-767a8d83e09f",
        "colab": {
          "base_uri": "https://localhost:8080/",
          "height": 467
        }
      },
      "outputs": [
        {
          "output_type": "execute_result",
          "data": {
            "text/plain": [
              "<Axes: xlabel='Converted', ylabel='TotalVisits'>"
            ]
          },
          "metadata": {},
          "execution_count": 23
        },
        {
          "output_type": "display_data",
          "data": {
            "text/plain": [
              "<Figure size 640x480 with 1 Axes>"
            ],
            "image/png": "[encoded data removed]"
          },
          "metadata": {}
        }
      ],
      "source": [
        "# Total Visits\n",
        "sns.boxplot(y = 'TotalVisits', x = 'Converted', data = leads_df)"
      ]
    },
    {
      "cell_type": "code",
      "execution_count": null,
      "metadata": {
        "id": "FhR8Zow9-NOQ"
      },
      "outputs": [],
      "source": [
        "# Total Time Spent on Website"
      ]
    },
    {
      "cell_type": "code",
      "execution_count": null,
      "metadata": {
        "id": "OGZdhiDx-NOQ"
      },
      "outputs": [],
      "source": [
        "# Page Views Per Visit"
      ]
    },
    {
      "cell_type": "markdown",
      "metadata": {
        "id": "XmeHzzsl-NOQ"
      },
      "source": [
        "What comments can you make about the different variables and their conversion rates?"
      ]
    },
    {
      "cell_type": "markdown",
      "metadata": {
        "id": "xO36fPqE-NOQ"
      },
      "source": [
        "## Part 7: Model Building\n",
        "\n",
        "Now we have a reasonably good idea about what we want to predict and the relationships in each variable we can start to build a predictive model for our lead score.\n",
        "\n",
        "As we said above we have a binary target that we want to predict and a mix of 7 categorical and continuous variables we can use as predictor variables\n",
        "\n",
        "Because our target is binary (0 or 1)  - this is a **classification** problem, meaning that we want to predict whether a lead will convert or not.\n",
        "\n",
        "So we need to pick a model for classification. The first choice for many binary classification problems is a **logistic regression** model because of its simplicity and interpretability.\n",
        "\n",
        "There are other options like **random forests** or **neural networks** that can provide better accuracy, but depending on the data logistic regression can perform very well!"
      ]
    },
    {
      "cell_type": "markdown",
      "metadata": {
        "id": "PT_ednXh-NOR"
      },
      "source": [
        "### Training-testing split\n",
        "\n",
        "The next part of building a predictive model is to split the data into a **training** set and **testing** set.\n",
        "This lets us withhold data from the model when training so that we can test it's performance on data it has not seen before - just like it will be doing for our lead scoring in real life.\n",
        "\n",
        "- Train 80%\n",
        "- Test 20%\n",
        "\n",
        "We also need to transform the data to get it ready for modelling\n",
        "- Remove the ID label (not useful as a predictor)\n",
        "- Split out the target column\n",
        "- For categorical variables with multiple levels, create dummy features (one-hot encoded)"
      ]
    },
    {
      "cell_type": "code",
      "execution_count": null,
      "metadata": {
        "id": "JJfjf4lD-NOR"
      },
      "outputs": [],
      "source": [
        "# package for training models\n",
        "from sklearn import datasets, linear_model, metrics\n",
        "from sklearn.model_selection import train_test_split"
      ]
    },
    {
      "cell_type": "code",
      "execution_count": null,
      "metadata": {
        "id": "ByI_VEB3-NOR"
      },
      "outputs": [],
      "source": [
        "# vector to store conversion results\n",
        "y = leads_df['Converted']"
      ]
    },
    {
      "cell_type": "code",
      "execution_count": null,
      "metadata": {
        "id": "bqHtSdlM-NOR"
      },
      "outputs": [],
      "source": [
        "# use the get_dummies variable on Occupation column\n",
        "pd.get_dummies(leads_df['Occupation'])"
      ]
    },
    {
      "cell_type": "code",
      "execution_count": null,
      "metadata": {
        "id": "K-j4wSAk-NOR"
      },
      "outputs": [],
      "source": [
        "# taking catagorical variables and creating dummy variables\n",
        "# here we have subsetted the dataframe to only the catagorical columns\n",
        "dummy1 = pd.get_dummies(leads_df[['LeadOrigin', 'LeadSource', 'Specialization', 'Occupation']], drop_first=True)"
      ]
    },
    {
      "cell_type": "code",
      "execution_count": null,
      "metadata": {
        "id": "YLeBO5wW-NOS"
      },
      "outputs": [],
      "source": [
        "# look at dummies dataframe"
      ]
    },
    {
      "cell_type": "code",
      "execution_count": null,
      "metadata": {
        "id": "I3luyyIN-NOS"
      },
      "outputs": [],
      "source": [
        "# Adding the results of the dummy variables and remaining continous variables\n",
        "# in a dataframe with all the predictors\n",
        "X = pd.concat([leads_df[['TotalVisits', 'TotalTime', 'PageViews']], dummy1], axis=1)"
      ]
    },
    {
      "cell_type": "code",
      "execution_count": null,
      "metadata": {
        "id": "-GIw4-RV-NOS"
      },
      "outputs": [],
      "source": [
        "# look at new X dataframe"
      ]
    },
    {
      "cell_type": "code",
      "execution_count": null,
      "metadata": {
        "id": "qtSKkesP-NOS"
      },
      "outputs": [],
      "source": [
        "# create training and testing datasets\n",
        "X_train, X_test, y_train, y_test = train_test_split(X, y, test_size=0.2, random_state = 404)"
      ]
    },
    {
      "cell_type": "code",
      "execution_count": null,
      "metadata": {
        "id": "K-y8DLuH-NOS"
      },
      "outputs": [],
      "source": [
        "# print the dimensions of X_train, X_test, y_train and y_test"
      ]
    },
    {
      "cell_type": "markdown",
      "metadata": {
        "id": "Yd5aUiow-NOS"
      },
      "source": [
        "Now we are ready to 'fit' our logistic regresion model to the data"
      ]
    },
    {
      "cell_type": "code",
      "execution_count": null,
      "metadata": {
        "id": "fvu-YKgj-NOT"
      },
      "outputs": [],
      "source": [
        "# fit a model\n",
        "lm = linear_model.LogisticRegression()\n",
        "model = lm.fit(X_train, y_train)"
      ]
    },
    {
      "cell_type": "markdown",
      "metadata": {
        "id": "Nv56mE5A-NOT"
      },
      "source": [
        "Easy as that! Two lines of code."
      ]
    },
    {
      "cell_type": "markdown",
      "metadata": {
        "id": "Cj-4_i_7-NOT"
      },
      "source": [
        "## Part 8: Model Evaluation\n",
        "\n",
        "Next is the important bit - how good is our model at predicting conversions?\n",
        "\n",
        "There are many metrics to evaluate a model and two ways we can get estimates\n",
        "- 'in-sample' evaluating on our training data\n",
        "- 'out of sample' evaluating on our testing data"
      ]
    },
    {
      "cell_type": "code",
      "execution_count": null,
      "metadata": {
        "id": "Pcl1G9Kr-NOT"
      },
      "outputs": [],
      "source": [
        "# in sample accuracy\n",
        "metrics.accuracy_score(y_train, model.predict(X_train))"
      ]
    },
    {
      "cell_type": "code",
      "execution_count": null,
      "metadata": {
        "id": "UOeO0S5r-NOU"
      },
      "outputs": [],
      "source": [
        "# Get predictions on testing dataset\n",
        "y_test_pred = model.predict(X_test)"
      ]
    },
    {
      "cell_type": "code",
      "execution_count": null,
      "metadata": {
        "id": "PF6smCf4-NOU"
      },
      "outputs": [],
      "source": [
        "# Can you do the same for the out of of sample accuracy?"
      ]
    },
    {
      "cell_type": "markdown",
      "metadata": {
        "id": "fWoQEO8e-NOU"
      },
      "source": [
        "The in-sample estimate always tends to be higher accuracy - which is why we need to evaluate our model on data it has not seen before to get a true estimate of real life performance!"
      ]
    },
    {
      "cell_type": "markdown",
      "metadata": {
        "id": "3q-C6zZU-NOU"
      },
      "source": [
        "### Confusion Matrix\n",
        "\n",
        "For classification models we can use a tool called a **confusion matrix** to see how the model performed on classifying non-conversions compared to conversions"
      ]
    },
    {
      "cell_type": "code",
      "execution_count": null,
      "metadata": {
        "id": "ZPpgpc0D-NOU"
      },
      "outputs": [],
      "source": [
        "# Confusion matrix\n",
        "# imput is the actual conversions vs the predicted conversions for each lead in the test set\n",
        "confusion = metrics.confusion_matrix(y_test, y_test_pred)\n",
        "\n",
        "confusion"
      ]
    },
    {
      "cell_type": "markdown",
      "metadata": {
        "id": "M3IKvtGh-NOV"
      },
      "source": [
        "One thing we are interested in is how many leads predicted as converters were actually converters and how many predicted as non-converters were actually non converters:"
      ]
    },
    {
      "cell_type": "code",
      "execution_count": null,
      "metadata": {
        "id": "lm1XlWpU-NOV"
      },
      "outputs": [],
      "source": [
        "# some more things we can calculate from our confusion matrix\n",
        "TP = confusion[1,1] # true positive\n",
        "TN = confusion[0,0] # true negatives\n",
        "FP = confusion[0,1] # false positives\n",
        "FN = confusion[1,0] # false negatives\n",
        "\n",
        "print(\"True positive\", TP)\n",
        "print(\"True negative\", TN)\n",
        "print(\"False Positives\", FP)\n",
        "print(\"False Negatives\", FN)"
      ]
    },
    {
      "cell_type": "markdown",
      "metadata": {
        "id": "KH1UtIDW-NOV"
      },
      "source": [
        "And the proportions of each:\n",
        "\n",
        "- **Sensitivity** (also called the true positive rate, the recall) measures the proportion of actual positives that are correctly identified as such.\n",
        "\n",
        "- **Specificity** (also called the true negative rate) measures the proportion of actual negatives that are correctly identified as such."
      ]
    },
    {
      "cell_type": "code",
      "execution_count": null,
      "metadata": {
        "id": "1lPlisP9-NOV"
      },
      "outputs": [],
      "source": [
        "# Let's see the sensitivity of our logistic regression model\n",
        "se = TP / float(TP+FN)\n",
        "# Let us calculate specificity\n",
        "sp = TN / float(TN+FP)\n",
        "\n",
        "# Out of all those who were converters - what proportion did our model get right?\n",
        "print(\"Sensitivity\", se)\n",
        "# Out of all those who were non-converters - what proportion did our model get right?\n",
        "print(\"Specificity\", sp)"
      ]
    },
    {
      "cell_type": "markdown",
      "metadata": {
        "id": "ur5zAig2-NOV"
      },
      "source": [
        "The default for predictions is all p > 0.5 are classed as 1 (i.e. conversion) and all p < 0.5 are classed as 0 (non-conversion)\n",
        "\n",
        "Depending on what is worse\n",
        "- Mis-classifying a non-converter as a converter and calling them by mistake - low specificity\n",
        "- Mis-classifying a converter as a non-converter and and not calling them - low sensitivity\n",
        "\n",
        "We can tune the sensitivity and specificity of our model, by moving this threshold of 0.5 higher or lower."
      ]
    },
    {
      "cell_type": "code",
      "execution_count": null,
      "metadata": {
        "id": "aAIDcVzI-NOV"
      },
      "outputs": [],
      "source": [
        "# roc curve\n",
        "y_pred_proba = model.predict_proba(X_test)[::,1]\n",
        "fpr, tpr, _ = metrics.roc_curve(y_test,  y_pred_proba)\n",
        "auc = metrics.roc_auc_score(y_test, y_pred_proba)\n",
        "plt.plot(fpr,tpr,label=\"data 1, auc=\"+str(auc))\n",
        "plt.legend(loc=4)\n",
        "plt.xlabel(\"False Positive Rate (1-Specificity)\")\n",
        "plt.ylabel(\"True Positive Rate (Sensitivity)\")\n",
        "plt.show()"
      ]
    },
    {
      "cell_type": "markdown",
      "metadata": {
        "id": "ofaUNVJk-NOW"
      },
      "source": [
        "## Part 9: Interpreting Results & Lift\n",
        "\n",
        "The great thing about logistic regression is it gives us the predicted probabilities of that observation falling into that class (in our case conversion = 0 or conversion = 1).\n",
        "\n",
        "We can use this to rank our leads into deciles of the 'hottest' and compare the number of actual conversions in each decile.\n",
        "\n",
        "Then we can see how this compares to the existing method - or no method."
      ]
    },
    {
      "cell_type": "code",
      "execution_count": null,
      "metadata": {
        "id": "LR4OWOgr-NOW"
      },
      "outputs": [],
      "source": [
        "# create dataframe\n",
        "probs = pd.concat([y_test.reset_index(drop = True), pd.Series(y_pred_proba)], axis = 1)\n",
        "probs.columns = ['actual', 'prob_c']"
      ]
    },
    {
      "cell_type": "code",
      "execution_count": null,
      "metadata": {
        "id": "ss_kUNBH-NOW"
      },
      "outputs": [],
      "source": [
        "# look at probs dataframe"
      ]
    },
    {
      "cell_type": "code",
      "execution_count": null,
      "metadata": {
        "id": "edyJBrg6-NOW"
      },
      "outputs": [],
      "source": [
        "# cut data into decilies\n",
        "# i.e. putting the leads into buckets of top 10%, 20%, ... based on how likely they are to convert\n",
        "probs['deciles'] = pd.qcut(probs.prob_c.rank(method='first'), 10)"
      ]
    },
    {
      "cell_type": "code",
      "execution_count": null,
      "metadata": {
        "id": "1W2umZI6-NOW"
      },
      "outputs": [],
      "source": [
        "# use value_counts() to look at new decile column"
      ]
    },
    {
      "cell_type": "code",
      "execution_count": null,
      "metadata": {
        "id": "T7S520KD-NOW"
      },
      "outputs": [],
      "source": [
        "# compare actual conversion in each decile\n",
        "# pandas groupby is a useful function for\n",
        "lift = probs.groupby(probs.deciles)['actual'].agg([\"sum\", \"count\"]).reset_index()\n",
        "\n",
        "# existing conversion rate in test data\n",
        "x = sum(lift['sum'])/sum(lift['count'])\n",
        "\n",
        "# calculate conversion probs\n",
        "lift['prob_con'] = lift['sum']/lift['count']\n",
        "\n",
        "# get cumulative counts and probabilities\n",
        "lift['sum_c'] = lift['sum'].iloc[::-1].cumsum()\n",
        "lift['prop_c'] = lift['sum_c']/731\n",
        "\n",
        "# old model - 40% conversion by random selection\n",
        "lift['old'] = lift['count']*x"
      ]
    },
    {
      "cell_type": "code",
      "execution_count": null,
      "metadata": {
        "id": "e3djvhII-NOX"
      },
      "outputs": [],
      "source": [
        "# dataframe with our metrics\n",
        "lift"
      ]
    },
    {
      "cell_type": "markdown",
      "metadata": {
        "id": "jXMr6VzY-NOX"
      },
      "source": [
        "### Waterfall Plot\n",
        "\n",
        "This plot shows us for each decile (ordered 'hottest' to 'not hot' leads) how many conversions we would expect to get by contacting leads in each decile compared to when we just pick leads at random that have a 38% conversion rate."
      ]
    },
    {
      "cell_type": "code",
      "execution_count": null,
      "metadata": {
        "id": "_JoCNUjV-NOX"
      },
      "outputs": [],
      "source": [
        "# Waterfall analysis plot\n",
        "ax = plt.gca()\n",
        "\n",
        "ax.bar(lift.index, lift['count'].iloc[::-1], color = 'lightgreen')\n",
        "ax.bar(lift.index, lift['sum'].iloc[::-1])\n",
        "ax.plot(lift.index, lift['old'].iloc[::-1], color = 'red')\n",
        "plt.xticks(lift.index, labels=lift.index+1)\n",
        "plt.title(\"Waterfall Analysis\")\n",
        "plt.xlabel(\"Deciles\")\n",
        "plt.ylabel(\"Conversions\")\n",
        "\n",
        "plt.show()"
      ]
    },
    {
      "cell_type": "markdown",
      "metadata": {
        "id": "wm3JYXnN-NOX"
      },
      "source": [
        "We can see that our model puts our more likely converters in the top deciles. This means that the sales team has a way of prioritising leads\n",
        "1. Top 10% of leads are 98% likely to convert so they should always be at the top of the queue\n",
        "2. Middle % of leads might still convert but less of a priority\n",
        "3. Bottom 30% of leads are very unlikely to convert - don't waste time and resource here! Ignore them!\n",
        "\n",
        "*Next idea - can you work out those in the top decile who might convert on without even needing a sales call? - AB testing*"
      ]
    },
    {
      "cell_type": "markdown",
      "metadata": {
        "id": "tqteXSJa-NOX"
      },
      "source": [
        "### Lift plot\n",
        "\n",
        "Here we compare the cumulative gains in converted customers we get from our model compared to what we get by calling leads randomly."
      ]
    },
    {
      "cell_type": "code",
      "execution_count": null,
      "metadata": {
        "id": "qYoRqH1w-NOX"
      },
      "outputs": [],
      "source": [
        "# Lift plot\n",
        "ax = plt.gca()\n",
        "\n",
        "d = np.linspace(0.1,1,10).round(1)\n",
        "\n",
        "ax.plot(lift.index, lift['prop_c'].iloc[::-1]*100, marker='o')\n",
        "ax.plot(lift.index, d*100, color = 'red', marker='o')\n",
        "plt.xticks(lift.index, labels=d*100)\n",
        "plt.title(\"Lift Chart\")\n",
        "plt.xlabel(\"% of Leads\")\n",
        "plt.ylabel(\"% of Conversions\")\n",
        "\n",
        "plt.show()"
      ]
    },
    {
      "cell_type": "markdown",
      "metadata": {
        "id": "EMFRU5w7-NOY"
      },
      "source": [
        "This chart shows us that by contacting just the top 10% of leads we actually capture 24% of all conversions.\n",
        "\n",
        "This is compared to having no model where we will only get 10% of all conversions for every 10% of leads we contact.\n",
        "\n",
        "We only need to contact the top 70% leads from our model to capture 95% of all conversions.\n",
        "\n",
        "This model shows we can convert more leads without making more calls! We just have to call the right people in the right order!"
      ]
    },
    {
      "cell_type": "markdown",
      "metadata": {
        "id": "Xp3zkmH1-NOY"
      },
      "source": [
        "# Part 10: Next steps\n",
        "\n",
        "You could try improve model accuracy by:\n",
        "- Try a different model\n",
        "- Transform variables\n",
        "- Variable selection\n",
        "- Tune hyperparameters\n",
        "- Adding new data\n",
        "\n",
        "Model building is an iterative process until you reach the level of accuracy required"
      ]
    }
  ],
  "metadata": {
    "kernelspec": {
      "display_name": "Python 3",
      "language": "python",
      "name": "python3"
    },
    "language_info": {
      "codemirror_mode": {
        "name": "ipython",
        "version": 3
      },
      "file_extension": ".py",
      "mimetype": "text/x-python",
      "name": "python",
      "nbconvert_exporter": "python",
      "pygments_lexer": "ipython3",
      "version": "3.7.6"
    },
    "colab": {
      "provenance": []
    }
  },
  "nbformat": 4,
  "nbformat_minor": 0
}